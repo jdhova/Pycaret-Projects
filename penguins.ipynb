{
 "cells": [
  {
   "cell_type": "code",
   "execution_count": null,
   "metadata": {},
   "outputs": [],
   "source": [
    "## Unsupervized learning Clustring, here by the machine find  similar pattend and groups data based \n",
    "## on patterns"
   ]
  },
  {
   "cell_type": "code",
   "execution_count": null,
   "metadata": {},
   "outputs": [],
   "source": [
    "##Logistic Reg the dependet variavle is catrgorical and lenier reg the depndet variavle y is contineous like \n",
    "## price of house"
   ]
  }
 ],
 "metadata": {
  "language_info": {
   "name": "python"
  },
  "orig_nbformat": 4
 },
 "nbformat": 4,
 "nbformat_minor": 2
}
