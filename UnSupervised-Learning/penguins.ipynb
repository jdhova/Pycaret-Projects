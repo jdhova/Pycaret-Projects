{
 "cells": [
  {
   "cell_type": "code",
   "execution_count": 37,
   "metadata": {},
   "outputs": [],
   "source": [
    "## Unsupervized learning Clustring, here by the machine find  similar pattend and groups data based \n",
    "## on patterns"
   ]
  },
  {
   "cell_type": "code",
   "execution_count": 38,
   "metadata": {},
   "outputs": [],
   "source": [
    "##Logistic Reg the dependet variavle is catrgorical and lenier reg the depndet variavle y is contineous like \n",
    "## price of house\n",
    "## Clusteing is a data minning concept"
   ]
  },
  {
   "cell_type": "code",
   "execution_count": 39,
   "metadata": {},
   "outputs": [
    {
     "name": "stdout",
     "output_type": "stream",
     "text": [
      "(333, 6)\n"
     ]
    },
    {
     "data": {
      "text/html": [
       "<div>\n",
       "<style scoped>\n",
       "    .dataframe tbody tr th:only-of-type {\n",
       "        vertical-align: middle;\n",
       "    }\n",
       "\n",
       "    .dataframe tbody tr th {\n",
       "        vertical-align: top;\n",
       "    }\n",
       "\n",
       "    .dataframe thead th {\n",
       "        text-align: right;\n",
       "    }\n",
       "</style>\n",
       "<table border=\"1\" class=\"dataframe\">\n",
       "  <thead>\n",
       "    <tr style=\"text-align: right;\">\n",
       "      <th></th>\n",
       "      <th>species</th>\n",
       "      <th>island</th>\n",
       "      <th>bill_length_mm</th>\n",
       "      <th>bill_depth_mm</th>\n",
       "      <th>flipper_length_mm</th>\n",
       "      <th>body_mass_g</th>\n",
       "      <th>sex</th>\n",
       "    </tr>\n",
       "  </thead>\n",
       "  <tbody>\n",
       "    <tr>\n",
       "      <th>0</th>\n",
       "      <td>Adelie</td>\n",
       "      <td>Torgersen</td>\n",
       "      <td>39.1</td>\n",
       "      <td>18.7</td>\n",
       "      <td>181</td>\n",
       "      <td>3750</td>\n",
       "      <td>Male</td>\n",
       "    </tr>\n",
       "    <tr>\n",
       "      <th>1</th>\n",
       "      <td>Adelie</td>\n",
       "      <td>Torgersen</td>\n",
       "      <td>39.5</td>\n",
       "      <td>17.4</td>\n",
       "      <td>186</td>\n",
       "      <td>3800</td>\n",
       "      <td>Female</td>\n",
       "    </tr>\n",
       "    <tr>\n",
       "      <th>2</th>\n",
       "      <td>Adelie</td>\n",
       "      <td>Torgersen</td>\n",
       "      <td>40.3</td>\n",
       "      <td>18.0</td>\n",
       "      <td>195</td>\n",
       "      <td>3250</td>\n",
       "      <td>Female</td>\n",
       "    </tr>\n",
       "    <tr>\n",
       "      <th>3</th>\n",
       "      <td>Adelie</td>\n",
       "      <td>Torgersen</td>\n",
       "      <td>36.7</td>\n",
       "      <td>19.3</td>\n",
       "      <td>193</td>\n",
       "      <td>3450</td>\n",
       "      <td>Female</td>\n",
       "    </tr>\n",
       "    <tr>\n",
       "      <th>4</th>\n",
       "      <td>Adelie</td>\n",
       "      <td>Torgersen</td>\n",
       "      <td>39.3</td>\n",
       "      <td>20.6</td>\n",
       "      <td>190</td>\n",
       "      <td>3650</td>\n",
       "      <td>Male</td>\n",
       "    </tr>\n",
       "  </tbody>\n",
       "</table>\n",
       "</div>"
      ],
      "text/plain": [
       "  species     island  bill_length_mm  bill_depth_mm  flipper_length_mm  \\\n",
       "0  Adelie  Torgersen            39.1           18.7                181   \n",
       "1  Adelie  Torgersen            39.5           17.4                186   \n",
       "2  Adelie  Torgersen            40.3           18.0                195   \n",
       "3  Adelie  Torgersen            36.7           19.3                193   \n",
       "4  Adelie  Torgersen            39.3           20.6                190   \n",
       "\n",
       "   body_mass_g     sex  \n",
       "0         3750    Male  \n",
       "1         3800  Female  \n",
       "2         3250  Female  \n",
       "3         3450  Female  \n",
       "4         3650    Male  "
      ]
     },
     "execution_count": 39,
     "metadata": {},
     "output_type": "execute_result"
    }
   ],
   "source": [
    "import numpy as np\n",
    "import pandas as pd\n",
    "df = pd.read_csv('./Unsupervised-Data/penguins.csv')\n",
    "data = df.drop('species', axis = 1)\n",
    "print(data.shape)\n",
    "df.head()"
   ]
  },
  {
   "cell_type": "code",
   "execution_count": 40,
   "metadata": {},
   "outputs": [],
   "source": [
    "## df.shape"
   ]
  },
  {
   "cell_type": "code",
   "execution_count": 41,
   "metadata": {},
   "outputs": [],
   "source": [
    "## data = df.drop('species', axis = 1)\n",
    "## data.shape"
   ]
  },
  {
   "cell_type": "code",
   "execution_count": 42,
   "metadata": {},
   "outputs": [],
   "source": [
    "from pycaret.clustering import * \n",
    "s = setup(data, normalize= True, session_id=42)"
   ]
  },
  {
   "cell_type": "code",
   "execution_count": null,
   "metadata": {},
   "outputs": [],
   "source": []
  },
  {
   "cell_type": "code",
   "execution_count": 43,
   "metadata": {},
   "outputs": [
    {
     "data": {
      "text/html": [
       "<div>\n",
       "<style scoped>\n",
       "    .dataframe tbody tr th:only-of-type {\n",
       "        vertical-align: middle;\n",
       "    }\n",
       "\n",
       "    .dataframe tbody tr th {\n",
       "        vertical-align: top;\n",
       "    }\n",
       "\n",
       "    .dataframe thead th {\n",
       "        text-align: right;\n",
       "    }\n",
       "</style>\n",
       "<table border=\"1\" class=\"dataframe\">\n",
       "  <thead>\n",
       "    <tr style=\"text-align: right;\">\n",
       "      <th></th>\n",
       "      <th>Name</th>\n",
       "      <th>Reference</th>\n",
       "    </tr>\n",
       "    <tr>\n",
       "      <th>ID</th>\n",
       "      <th></th>\n",
       "      <th></th>\n",
       "    </tr>\n",
       "  </thead>\n",
       "  <tbody>\n",
       "    <tr>\n",
       "      <th>kmeans</th>\n",
       "      <td>K-Means Clustering</td>\n",
       "      <td>sklearn.cluster._kmeans.KMeans</td>\n",
       "    </tr>\n",
       "    <tr>\n",
       "      <th>ap</th>\n",
       "      <td>Affinity Propagation</td>\n",
       "      <td>sklearn.cluster._affinity_propagation.Affinity...</td>\n",
       "    </tr>\n",
       "    <tr>\n",
       "      <th>meanshift</th>\n",
       "      <td>Mean Shift Clustering</td>\n",
       "      <td>sklearn.cluster._mean_shift.MeanShift</td>\n",
       "    </tr>\n",
       "    <tr>\n",
       "      <th>sc</th>\n",
       "      <td>Spectral Clustering</td>\n",
       "      <td>sklearn.cluster._spectral.SpectralClustering</td>\n",
       "    </tr>\n",
       "    <tr>\n",
       "      <th>hclust</th>\n",
       "      <td>Agglomerative Clustering</td>\n",
       "      <td>sklearn.cluster._agglomerative.AgglomerativeCl...</td>\n",
       "    </tr>\n",
       "    <tr>\n",
       "      <th>dbscan</th>\n",
       "      <td>Density-Based Spatial Clustering</td>\n",
       "      <td>sklearn.cluster._dbscan.DBSCAN</td>\n",
       "    </tr>\n",
       "    <tr>\n",
       "      <th>optics</th>\n",
       "      <td>OPTICS Clustering</td>\n",
       "      <td>sklearn.cluster._optics.OPTICS</td>\n",
       "    </tr>\n",
       "    <tr>\n",
       "      <th>birch</th>\n",
       "      <td>Birch Clustering</td>\n",
       "      <td>sklearn.cluster._birch.Birch</td>\n",
       "    </tr>\n",
       "  </tbody>\n",
       "</table>\n",
       "</div>"
      ],
      "text/plain": [
       "                                       Name  \\\n",
       "ID                                            \n",
       "kmeans                   K-Means Clustering   \n",
       "ap                     Affinity Propagation   \n",
       "meanshift             Mean Shift Clustering   \n",
       "sc                      Spectral Clustering   \n",
       "hclust             Agglomerative Clustering   \n",
       "dbscan     Density-Based Spatial Clustering   \n",
       "optics                    OPTICS Clustering   \n",
       "birch                      Birch Clustering   \n",
       "\n",
       "                                                   Reference  \n",
       "ID                                                            \n",
       "kmeans                        sklearn.cluster._kmeans.KMeans  \n",
       "ap         sklearn.cluster._affinity_propagation.Affinity...  \n",
       "meanshift              sklearn.cluster._mean_shift.MeanShift  \n",
       "sc              sklearn.cluster._spectral.SpectralClustering  \n",
       "hclust     sklearn.cluster._agglomerative.AgglomerativeCl...  \n",
       "dbscan                        sklearn.cluster._dbscan.DBSCAN  \n",
       "optics                        sklearn.cluster._optics.OPTICS  \n",
       "birch                           sklearn.cluster._birch.Birch  "
      ]
     },
     "execution_count": 43,
     "metadata": {},
     "output_type": "execute_result"
    }
   ],
   "source": [
    "models()"
   ]
  },
  {
   "cell_type": "code",
   "execution_count": null,
   "metadata": {},
   "outputs": [],
   "source": []
  },
  {
   "cell_type": "code",
   "execution_count": 44,
   "metadata": {},
   "outputs": [
    {
     "data": {
      "text/html": [
       "<div>\n",
       "<style scoped>\n",
       "    .dataframe tbody tr th:only-of-type {\n",
       "        vertical-align: middle;\n",
       "    }\n",
       "\n",
       "    .dataframe tbody tr th {\n",
       "        vertical-align: top;\n",
       "    }\n",
       "\n",
       "    .dataframe thead th {\n",
       "        text-align: right;\n",
       "    }\n",
       "</style>\n",
       "<table border=\"1\" class=\"dataframe\">\n",
       "  <thead>\n",
       "    <tr style=\"text-align: right;\">\n",
       "      <th></th>\n",
       "      <th></th>\n",
       "      <th></th>\n",
       "    </tr>\n",
       "    <tr>\n",
       "      <th></th>\n",
       "      <th></th>\n",
       "      <th></th>\n",
       "    </tr>\n",
       "  </thead>\n",
       "  <tbody>\n",
       "    <tr>\n",
       "      <th>Initiated</th>\n",
       "      <td>. . . . . . . . . . . . . . . . . .</td>\n",
       "      <td>01:13:12</td>\n",
       "    </tr>\n",
       "    <tr>\n",
       "      <th>Status</th>\n",
       "      <td>. . . . . . . . . . . . . . . . . .</td>\n",
       "      <td>Fitting 3 Clusters</td>\n",
       "    </tr>\n",
       "    <tr>\n",
       "      <th>Estimator</th>\n",
       "      <td>. . . . . . . . . . . . . . . . . .</td>\n",
       "      <td>K-Means Clustering</td>\n",
       "    </tr>\n",
       "  </tbody>\n",
       "</table>\n",
       "</div>"
      ],
      "text/plain": [
       "                                                                  \n",
       "                                                                  \n",
       "Initiated  . . . . . . . . . . . . . . . . . .            01:13:12\n",
       "Status     . . . . . . . . . . . . . . . . . .  Fitting 3 Clusters\n",
       "Estimator  . . . . . . . . . . . . . . . . . .  K-Means Clustering"
      ]
     },
     "metadata": {},
     "output_type": "display_data"
    },
    {
     "data": {
      "text/html": [
       "<style type=\"text/css\">\n",
       "</style>\n",
       "<table id=\"T_b8bdd\">\n",
       "  <thead>\n",
       "    <tr>\n",
       "      <th class=\"blank level0\" >&nbsp;</th>\n",
       "      <th id=\"T_b8bdd_level0_col0\" class=\"col_heading level0 col0\" >Silhouette</th>\n",
       "      <th id=\"T_b8bdd_level0_col1\" class=\"col_heading level0 col1\" >Calinski-Harabasz</th>\n",
       "      <th id=\"T_b8bdd_level0_col2\" class=\"col_heading level0 col2\" >Davies-Bouldin</th>\n",
       "      <th id=\"T_b8bdd_level0_col3\" class=\"col_heading level0 col3\" >Homogeneity</th>\n",
       "      <th id=\"T_b8bdd_level0_col4\" class=\"col_heading level0 col4\" >Rand Index</th>\n",
       "      <th id=\"T_b8bdd_level0_col5\" class=\"col_heading level0 col5\" >Completeness</th>\n",
       "    </tr>\n",
       "  </thead>\n",
       "  <tbody>\n",
       "    <tr>\n",
       "      <th id=\"T_b8bdd_level0_row0\" class=\"row_heading level0 row0\" >0</th>\n",
       "      <td id=\"T_b8bdd_row0_col0\" class=\"data row0 col0\" >0.4392</td>\n",
       "      <td id=\"T_b8bdd_row0_col1\" class=\"data row0 col1\" >229.6225</td>\n",
       "      <td id=\"T_b8bdd_row0_col2\" class=\"data row0 col2\" >1.2352</td>\n",
       "      <td id=\"T_b8bdd_row0_col3\" class=\"data row0 col3\" >0</td>\n",
       "      <td id=\"T_b8bdd_row0_col4\" class=\"data row0 col4\" >0</td>\n",
       "      <td id=\"T_b8bdd_row0_col5\" class=\"data row0 col5\" >0</td>\n",
       "    </tr>\n",
       "  </tbody>\n",
       "</table>\n"
      ],
      "text/plain": [
       "<pandas.io.formats.style.Styler at 0x1d818e9bf10>"
      ]
     },
     "metadata": {},
     "output_type": "display_data"
    }
   ],
   "source": [
    "model = create_model('kmeans', num_clusters=4)"
   ]
  },
  {
   "cell_type": "code",
   "execution_count": 45,
   "metadata": {},
   "outputs": [
    {
     "data": {
      "application/vnd.jupyter.widget-view+json": {
       "model_id": "c39f99158a0d4aeeaf9d07ad870c9819",
       "version_major": 2,
       "version_minor": 0
      },
      "text/plain": [
       "interactive(children=(ToggleButtons(description='Plot Type:', icons=('',), options=(('Pipeline Plot', 'pipelin…"
      ]
     },
     "metadata": {},
     "output_type": "display_data"
    },
    {
     "data": {
      "application/vnd.plotly.v1+json": {
       "config": {
        "plotlyServerURL": "https://plot.ly"
       },
       "data": [
        {
         "customdata": [
          [
           "Torgersen"
          ],
          [
           "Torgersen"
          ],
          [
           "Torgersen"
          ],
          [
           "Torgersen"
          ],
          [
           "Torgersen"
          ],
          [
           "Torgersen"
          ],
          [
           "Torgersen"
          ],
          [
           "Torgersen"
          ],
          [
           "Torgersen"
          ],
          [
           "Torgersen"
          ],
          [
           "Torgersen"
          ],
          [
           "Torgersen"
          ],
          [
           "Torgersen"
          ],
          [
           "Torgersen"
          ],
          [
           "Torgersen"
          ],
          [
           "Torgersen"
          ],
          [
           "Torgersen"
          ],
          [
           "Torgersen"
          ],
          [
           "Torgersen"
          ],
          [
           "Biscoe"
          ],
          [
           "Torgersen"
          ],
          [
           "Biscoe"
          ],
          [
           "Biscoe"
          ],
          [
           "Biscoe"
          ],
          [
           "Torgersen"
          ],
          [
           "Torgersen"
          ],
          [
           "Torgersen"
          ],
          [
           "Biscoe"
          ],
          [
           "Torgersen"
          ],
          [
           "Torgersen"
          ],
          [
           "Torgersen"
          ],
          [
           "Torgersen"
          ],
          [
           "Torgersen"
          ],
          [
           "Torgersen"
          ],
          [
           "Torgersen"
          ],
          [
           "Torgersen"
          ],
          [
           "Torgersen"
          ],
          [
           "Biscoe"
          ],
          [
           "Biscoe"
          ],
          [
           "Biscoe"
          ],
          [
           "Biscoe"
          ],
          [
           "Biscoe"
          ],
          [
           "Biscoe"
          ],
          [
           "Biscoe"
          ],
          [
           "Biscoe"
          ],
          [
           "Biscoe"
          ],
          [
           "Biscoe"
          ],
          [
           "Biscoe"
          ],
          [
           "Biscoe"
          ],
          [
           "Biscoe"
          ],
          [
           "Biscoe"
          ],
          [
           "Biscoe"
          ],
          [
           "Biscoe"
          ],
          [
           "Biscoe"
          ],
          [
           "Biscoe"
          ],
          [
           "Biscoe"
          ],
          [
           "Biscoe"
          ],
          [
           "Biscoe"
          ],
          [
           "Biscoe"
          ],
          [
           "Biscoe"
          ],
          [
           "Biscoe"
          ],
          [
           "Biscoe"
          ],
          [
           "Biscoe"
          ],
          [
           "Biscoe"
          ],
          [
           "Biscoe"
          ],
          [
           "Torgersen"
          ],
          [
           "Torgersen"
          ],
          [
           "Torgersen"
          ],
          [
           "Torgersen"
          ],
          [
           "Torgersen"
          ],
          [
           "Torgersen"
          ],
          [
           "Torgersen"
          ],
          [
           "Torgersen"
          ],
          [
           "Torgersen"
          ],
          [
           "Torgersen"
          ],
          [
           "Torgersen"
          ],
          [
           "Torgersen"
          ],
          [
           "Torgersen"
          ],
          [
           "Torgersen"
          ],
          [
           "Biscoe"
          ],
          [
           "Biscoe"
          ],
          [
           "Torgersen"
          ],
          [
           "Biscoe"
          ],
          [
           "Biscoe"
          ],
          [
           "Biscoe"
          ],
          [
           "Biscoe"
          ],
          [
           "Biscoe"
          ],
          [
           "Biscoe"
          ],
          [
           "Biscoe"
          ],
          [
           "Biscoe"
          ],
          [
           "Biscoe"
          ]
         ],
         "hovertemplate": "Cluster=Cluster 0<br>PCA1=%{x}<br>PCA2=%{y}<br>Feature=%{customdata[0]}<extra></extra>",
         "legendgroup": "Cluster 0",
         "marker": {
          "color": "#636efa",
          "opacity": 0.5,
          "symbol": "circle"
         },
         "mode": "markers",
         "name": "Cluster 0",
         "orientation": "v",
         "showlegend": true,
         "textposition": "top center",
         "type": "scatter",
         "x": [
          -2.06702935915506,
          -2.1167105974996794,
          -1.5323373199613468,
          -1.7603767555194805,
          -2.2115581494236327,
          -0.5881710210827732,
          -2.3199983139109346,
          -1.3492934916930692,
          -1.890309964891867,
          -2.116907856401124,
          -1.5249937098176087,
          -1.0537906444661058,
          -1.9992119894372382,
          -0.944246121753525,
          -1.5916667003248746,
          -1.5864483410821333,
          -2.447889708555853,
          -1.0593319238177952,
          -2.188076161172008,
          -0.1599040630540907,
          -1.2825852509658089,
          0.11877307449440534,
          -1.1439449872190284,
          0.11120353798381774,
          -0.5255110879529513,
          -2.066850963246865,
          -1.0632397572954955,
          -0.5939069301379218,
          -2.235214340573674,
          -1.1158684202832676,
          -2.253606429350745,
          -1.9206869241105122,
          -2.3240616623774795,
          -1.9095117354938451,
          -2.132740184259118,
          -1.8788996425130347,
          -2.259929883781318,
          0.33489178342371045,
          -0.7738139233435513,
          -0.5874515997499594,
          0.2357001607474754,
          0.2714115221998675,
          0.10258978884463187,
          0.675214438344946,
          -0.940135133649959,
          -0.541036116757039,
          -0.006627760790325525,
          -0.6582211917003672,
          -0.9849600356902009,
          -0.3611350424803962,
          -0.7703366126799047,
          0.5382632187710594,
          -0.5563668730944936,
          -0.1047623447854142,
          -0.3694711533317146,
          -0.36260932733335377,
          -1.5635014421425866,
          -0.749397653601598,
          -0.5849551468837312,
          -0.8852792054169205,
          -0.38851358682072235,
          -0.33241151275286407,
          -0.8380924385717612,
          -0.8431831679600965,
          -1.301721267447502,
          -1.4817967895686532,
          -2.6479421492900967,
          -1.2620484058404726,
          -2.0655543567254724,
          -2.1594798764644203,
          -1.8162065019970597,
          -2.1877579505745683,
          -2.2540547930940353,
          -1.2170524052871554,
          -2.2051186021402547,
          -2.1580402864073758,
          -2.3036855654791446,
          -1.905705136366273,
          -1.8267553461077535,
          -0.5150242254674822,
          -0.9399412950469382,
          -2.039593685351912,
          -0.624481717173459,
          -1.1477632706720888,
          -0.13897598582028442,
          -0.5934760456487892,
          -0.18159774154860064,
          -1.3068466143371578,
          0.19492324411038717,
          -0.8209500609129448,
          -0.06500769262211806
         ],
         "xaxis": "x",
         "y": [
          -0.5866273476481478,
          -1.8620170095128752,
          -0.08386671887917353,
          -0.6000387951357239,
          -1.7769988542666615,
          -0.1605424571638567,
          -2.343466591504386,
          -0.10142621378467838,
          -2.3584812445409042,
          -0.561235853951481,
          -1.7813795464796258,
          -0.10306045013752298,
          -2.107097650645821,
          0.21327538269171517,
          -1.8042466317395582,
          -0.4874668572490244,
          -2.019135777606701,
          0.042723826019236966,
          -2.3670176396604936,
          0.0047952846767336296,
          -0.21003014584962804,
          -0.15066777780215854,
          -2.0978639175653306,
          -0.13560161596178838,
          -0.012577969653255285,
          -2.0126499991074063,
          -0.23649184110852686,
          -1.8275341196568609,
          -2.5849150659395272,
          -0.2350699503483989,
          -1.976452800308365,
          -0.4112167439199808,
          -2.238209081938823,
          -0.45853154421385617,
          -2.2593853485342272,
          -0.2539814578694591,
          -2.1184074683605045,
          0.052360128899882404,
          -0.9134814190610919,
          -1.8597269000009888,
          0.27728472201481164,
          0.7176472647104851,
          -1.757140962573323,
          0.36826505162131956,
          -1.9361957472777305,
          -0.09372376614591468,
          -1.595440680687444,
          -0.28932901452246323,
          -1.6124745311708968,
          -0.05701894212922895,
          -2.154183722099546,
          0.4084736930000032,
          -1.5730685127082105,
          0.5022210507877,
          -2.145050112311366,
          -0.3034220120784066,
          -1.7413483090133475,
          -1.5204708493821824,
          -0.27799980167863564,
          -1.6475604502917927,
          -0.6556430027897717,
          -0.4703340157006461,
          -1.5271111490708704,
          -0.5134727013876959,
          -1.7378095260227628,
          0.687286116188883,
          -2.1583754792543255,
          0.338241878507423,
          -1.5794721080520278,
          -2.0033601459300745,
          -0.2511931950361523,
          -0.08093052565112765,
          -1.793463018321506,
          -0.1150575374887511,
          -1.8619765849201857,
          -0.17042296200609794,
          -1.706181236904728,
          -1.6692159064934444,
          -1.8090858549909878,
          -0.17694270536706025,
          -2.1238795098686376,
          -1.8935027254407664,
          -1.5794915018117421,
          -2.205282378261917,
          -0.10923102744065691,
          -1.6552850821697271,
          -0.1161321154544393,
          -2.0378621979584395,
          0.24085376585289436,
          -1.8987893113531527,
          -0.07408821768664474
         ],
         "yaxis": "y"
        },
        {
         "customdata": [
          [
           "Dream"
          ],
          [
           "Dream"
          ],
          [
           "Dream"
          ],
          [
           "Dream"
          ],
          [
           "Dream"
          ],
          [
           "Dream"
          ],
          [
           "Dream"
          ],
          [
           "Dream"
          ],
          [
           "Dream"
          ],
          [
           "Dream"
          ],
          [
           "Dream"
          ],
          [
           "Dream"
          ],
          [
           "Dream"
          ],
          [
           "Dream"
          ],
          [
           "Dream"
          ],
          [
           "Dream"
          ],
          [
           "Dream"
          ],
          [
           "Dream"
          ],
          [
           "Dream"
          ],
          [
           "Dream"
          ],
          [
           "Dream"
          ],
          [
           "Dream"
          ],
          [
           "Dream"
          ],
          [
           "Dream"
          ],
          [
           "Dream"
          ],
          [
           "Dream"
          ],
          [
           "Dream"
          ],
          [
           "Dream"
          ],
          [
           "Dream"
          ],
          [
           "Dream"
          ],
          [
           "Dream"
          ],
          [
           "Dream"
          ],
          [
           "Dream"
          ],
          [
           "Dream"
          ],
          [
           "Dream"
          ],
          [
           "Dream"
          ],
          [
           "Dream"
          ],
          [
           "Dream"
          ],
          [
           "Dream"
          ],
          [
           "Dream"
          ],
          [
           "Dream"
          ],
          [
           "Dream"
          ],
          [
           "Dream"
          ],
          [
           "Dream"
          ],
          [
           "Dream"
          ],
          [
           "Dream"
          ],
          [
           "Dream"
          ],
          [
           "Dream"
          ],
          [
           "Dream"
          ],
          [
           "Dream"
          ],
          [
           "Dream"
          ],
          [
           "Dream"
          ],
          [
           "Dream"
          ],
          [
           "Dream"
          ],
          [
           "Dream"
          ],
          [
           "Dream"
          ],
          [
           "Dream"
          ],
          [
           "Dream"
          ],
          [
           "Dream"
          ],
          [
           "Dream"
          ],
          [
           "Dream"
          ],
          [
           "Dream"
          ],
          [
           "Dream"
          ],
          [
           "Dream"
          ],
          [
           "Dream"
          ],
          [
           "Dream"
          ],
          [
           "Dream"
          ],
          [
           "Dream"
          ],
          [
           "Dream"
          ],
          [
           "Dream"
          ],
          [
           "Dream"
          ],
          [
           "Dream"
          ],
          [
           "Dream"
          ],
          [
           "Dream"
          ],
          [
           "Dream"
          ],
          [
           "Dream"
          ],
          [
           "Dream"
          ],
          [
           "Dream"
          ],
          [
           "Dream"
          ],
          [
           "Dream"
          ],
          [
           "Dream"
          ],
          [
           "Dream"
          ],
          [
           "Dream"
          ],
          [
           "Dream"
          ],
          [
           "Dream"
          ],
          [
           "Dream"
          ],
          [
           "Dream"
          ],
          [
           "Dream"
          ],
          [
           "Dream"
          ],
          [
           "Dream"
          ],
          [
           "Dream"
          ],
          [
           "Dream"
          ],
          [
           "Dream"
          ],
          [
           "Dream"
          ],
          [
           "Dream"
          ],
          [
           "Dream"
          ],
          [
           "Dream"
          ],
          [
           "Dream"
          ],
          [
           "Dream"
          ],
          [
           "Dream"
          ],
          [
           "Dream"
          ],
          [
           "Dream"
          ],
          [
           "Dream"
          ],
          [
           "Dream"
          ],
          [
           "Dream"
          ],
          [
           "Dream"
          ],
          [
           "Dream"
          ],
          [
           "Dream"
          ],
          [
           "Dream"
          ],
          [
           "Dream"
          ],
          [
           "Dream"
          ],
          [
           "Dream"
          ],
          [
           "Dream"
          ],
          [
           "Dream"
          ],
          [
           "Dream"
          ],
          [
           "Dream"
          ],
          [
           "Dream"
          ],
          [
           "Dream"
          ],
          [
           "Dream"
          ],
          [
           "Dream"
          ],
          [
           "Dream"
          ],
          [
           "Dream"
          ],
          [
           "Dream"
          ]
         ],
         "hovertemplate": "Cluster=Cluster 1<br>PCA1=%{x}<br>PCA2=%{y}<br>Feature=%{customdata[0]}<extra></extra>",
         "legendgroup": "Cluster 1",
         "marker": {
          "color": "#EF553B",
          "opacity": 0.5,
          "symbol": "circle"
         },
         "mode": "markers",
         "name": "Cluster 1",
         "orientation": "v",
         "showlegend": true,
         "textposition": "top center",
         "type": "scatter",
         "x": [
          -0.43198250005638067,
          -1.4671355207922832,
          -0.7937587884461174,
          -1.4487705791855332,
          -1.5583069055614676,
          -1.7858333216110238,
          -0.6117090946175003,
          -1.5365576826381027,
          -1.127593918035584,
          -1.1664295746509574,
          -1.2486470378731565,
          -1.1068536694618212,
          -0.6740875072519541,
          -1.203564006313235,
          -0.9202935824060704,
          -1.46034234526598,
          -2.024307738072265,
          -1.9832148489294459,
          -2.250998194518462,
          -1.3232499720901176,
          -1.1483293772049425,
          -1.8859900221536428,
          -1.1763044404647733,
          -1.0601457340472566,
          -1.2388991508658664,
          -1.9954659474295144,
          -0.7998498173243357,
          -1.2891093007672394,
          -1.0268679955781006,
          -0.3091090593373954,
          -1.4726295590581346,
          -1.8220784184208345,
          -1.3995775995768256,
          -0.7330106230696106,
          -1.932113162290143,
          -1.0318867985837437,
          -1.5706468797147262,
          -0.8505983231368589,
          -0.6897155568056482,
          -0.7756314522587814,
          -0.5836930052416931,
          -1.2953478634855704,
          -1.2480287691576564,
          -0.3505527875446007,
          -1.4855651723553176,
          -1.0186535201300044,
          -1.800219091822923,
          -1.0527509718515475,
          -0.9503024424296995,
          -1.5076573907344397,
          -0.5216175121051155,
          -1.1202109655608308,
          -0.827253158643589,
          -1.2606218806028895,
          -0.1698822075355881,
          -1.757663709216845,
          -0.27931762825014606,
          -0.616233573798076,
          -1.5809438377678728,
          -1.137793952769512,
          -1.312830659673422,
          -1.064294533759347,
          -0.3426693892261476,
          -1.555148368465249,
          -0.36402579283507563,
          -0.6549834141456701,
          -0.33350350831838543,
          -1.1259288405988344,
          -2.141784881555921,
          -2.3252083743973353,
          -0.8446076178998676,
          -2.120498163301878,
          -1.1763178424446432,
          -1.288790243099935,
          -2.1920061889551974,
          -1.164336977830935,
          -2.1979140202265834,
          -1.4103021300022258,
          -2.3340112347994153,
          -1.5579855272349379,
          -1.4230551498147552,
          -1.2602566369000696,
          -1.7319963457348981,
          -2.343301305335166,
          -1.443232217523558,
          -2.175134276247268,
          -2.0655715807431485,
          -1.518820511144302,
          -2.503606677500502,
          -2.0713395286971643,
          -1.6967668682267962,
          -2.068068033609377,
          -1.14116281033727,
          -1.7967685170733279,
          -2.4251974334824005,
          -2.8201960176458836,
          -1.8309994976502697,
          -2.357340955260565,
          -2.1509009749848578,
          -2.1924246351623418,
          -1.881195363459366,
          -1.974015705662941,
          -1.83271837033095,
          -1.9727014754996006,
          -0.7818499881084225,
          -2.8136690324194107,
          -1.546406803949152,
          -2.6920749500321874,
          -1.4238701357270158,
          -2.7066119107200737,
          -2.289861702225248,
          -1.1477740328809503,
          -1.8886489258445411,
          -2.339623777929738,
          -2.1124946191619434,
          -1.9802006536675332,
          -2.1892722578434207,
          -2.1689473171062734,
          -2.258500930878139,
          -2.2310297893302407,
          -1.3293636234482231,
          -2.447162244804781,
          -1.8407231538221698
         ],
         "xaxis": "x",
         "y": [
          2.2868334040976444,
          0.3469146160648899,
          2.4358624699998463,
          2.309766220636296,
          0.54476577064165,
          0.635751245111463,
          2.0944803378778944,
          0.4573545327037502,
          1.4208619127695987,
          2.2918646034572334,
          2.549255806262279,
          2.4617947560018205,
          2.4371789912416864,
          1.0097434266506617,
          2.1864952103167328,
          0.5484092974221922,
          -0.1253620408074936,
          -0.2550510302736104,
          0.3993529895898344,
          0.6013117630093426,
          0.5572260551904932,
          0.5699665235904119,
          2.2833180924229763,
          2.3053337465007266,
          1.6776091814884624,
          0.025620110862373407,
          2.1545979469603274,
          0.8379479809280228,
          2.5556067081819664,
          2.830482146198237,
          0.8032741903962696,
          -0.07529236853014713,
          0.39656535456128894,
          2.4870371810174423,
          0.033722764412660054,
          2.2780267622440107,
          0.1420328759711807,
          2.408099821922121,
          2.3810554188693396,
          2.224331828164311,
          2.55441495366399,
          0.31865894564493774,
          0.36854389051133757,
          2.948264320984332,
          0.3953957981665943,
          1.986520008064118,
          0.763230885281881,
          0.42555172739318525,
          0.7904243212558295,
          2.0797381682392193,
          2.358164304098505,
          2.049148044453708,
          0.5632348348366223,
          0.8009836802876569,
          2.982882253406708,
          0.18084348268553274,
          2.86000196596505,
          2.3487047047136884,
          0.4344102218524273,
          2.237121871523993,
          0.33049854819176727,
          0.9734761769683331,
          2.3402921364888316,
          0.5432864020288548,
          2.4530522305089466,
          3.008293244688992,
          2.435915877724665,
          1.0976272434571224,
          -0.5710877249944014,
          -0.4949655894084367,
          1.617607506449274,
          0.0020754168145166734,
          1.414485006795067,
          1.5704518232177687,
          -0.1381239784695018,
          1.2336119185814862,
          -0.2591408331452946,
          1.1595138791351454,
          -0.49982783744192877,
          1.6554186813044598,
          1.2213806188013352,
          1.2113623722345335,
          0.9544665336408817,
          -1.201079117155032,
          1.0009116337918946,
          -0.513586865770328,
          1.113544748066382,
          1.272571212342742,
          -0.2521539884456207,
          -0.3245916818363474,
          0.9917686747826262,
          -0.4681823502559712,
          1.4849953715113202,
          -0.1324356719639762,
          -0.7090911646131934,
          -1.1222571370537053,
          -0.23517657352923713,
          -0.416627032275138,
          0.8481804567475614,
          -0.12412995809437241,
          1.3478031758448135,
          -0.461881158202374,
          1.7565169628433832,
          1.434312332905313,
          1.472149470042261,
          -0.06591782941988704,
          1.4427982899740122,
          -0.41426857578961185,
          1.3396786357987776,
          -0.3414660751625328,
          0.208965684624837,
          1.9553552203428775,
          1.2395200634711236,
          -0.14479535352979267,
          1.1077709989757638,
          1.6481543384246347,
          -0.2705224178841012,
          0.08438826897810112,
          -0.347765917285492,
          1.271390219127307,
          1.4114859474332535,
          -0.5780003462264702,
          1.9885954848365832
         ],
         "yaxis": "y"
        },
        {
         "customdata": [
          [
           "Biscoe"
          ],
          [
           "Biscoe"
          ],
          [
           "Biscoe"
          ],
          [
           "Biscoe"
          ],
          [
           "Biscoe"
          ],
          [
           "Biscoe"
          ],
          [
           "Biscoe"
          ],
          [
           "Biscoe"
          ],
          [
           "Biscoe"
          ],
          [
           "Biscoe"
          ],
          [
           "Biscoe"
          ],
          [
           "Biscoe"
          ],
          [
           "Biscoe"
          ],
          [
           "Biscoe"
          ],
          [
           "Biscoe"
          ],
          [
           "Biscoe"
          ],
          [
           "Biscoe"
          ],
          [
           "Biscoe"
          ],
          [
           "Biscoe"
          ],
          [
           "Biscoe"
          ],
          [
           "Biscoe"
          ],
          [
           "Biscoe"
          ],
          [
           "Biscoe"
          ],
          [
           "Biscoe"
          ],
          [
           "Biscoe"
          ],
          [
           "Biscoe"
          ],
          [
           "Biscoe"
          ],
          [
           "Biscoe"
          ],
          [
           "Biscoe"
          ],
          [
           "Biscoe"
          ],
          [
           "Biscoe"
          ],
          [
           "Biscoe"
          ],
          [
           "Biscoe"
          ],
          [
           "Biscoe"
          ],
          [
           "Biscoe"
          ],
          [
           "Biscoe"
          ],
          [
           "Biscoe"
          ],
          [
           "Biscoe"
          ],
          [
           "Biscoe"
          ],
          [
           "Biscoe"
          ],
          [
           "Biscoe"
          ],
          [
           "Biscoe"
          ],
          [
           "Biscoe"
          ],
          [
           "Biscoe"
          ],
          [
           "Biscoe"
          ],
          [
           "Biscoe"
          ],
          [
           "Biscoe"
          ],
          [
           "Biscoe"
          ],
          [
           "Biscoe"
          ],
          [
           "Biscoe"
          ],
          [
           "Biscoe"
          ],
          [
           "Biscoe"
          ],
          [
           "Biscoe"
          ],
          [
           "Biscoe"
          ],
          [
           "Biscoe"
          ],
          [
           "Biscoe"
          ],
          [
           "Biscoe"
          ],
          [
           "Biscoe"
          ],
          [
           "Biscoe"
          ],
          [
           "Biscoe"
          ],
          [
           "Biscoe"
          ],
          [
           "Biscoe"
          ],
          [
           "Biscoe"
          ],
          [
           "Biscoe"
          ],
          [
           "Biscoe"
          ],
          [
           "Biscoe"
          ],
          [
           "Biscoe"
          ],
          [
           "Biscoe"
          ],
          [
           "Biscoe"
          ],
          [
           "Biscoe"
          ],
          [
           "Biscoe"
          ],
          [
           "Biscoe"
          ],
          [
           "Biscoe"
          ],
          [
           "Biscoe"
          ],
          [
           "Biscoe"
          ],
          [
           "Biscoe"
          ],
          [
           "Biscoe"
          ],
          [
           "Biscoe"
          ],
          [
           "Biscoe"
          ],
          [
           "Biscoe"
          ],
          [
           "Biscoe"
          ],
          [
           "Biscoe"
          ],
          [
           "Biscoe"
          ],
          [
           "Biscoe"
          ],
          [
           "Biscoe"
          ],
          [
           "Biscoe"
          ],
          [
           "Biscoe"
          ],
          [
           "Biscoe"
          ],
          [
           "Biscoe"
          ],
          [
           "Biscoe"
          ],
          [
           "Biscoe"
          ],
          [
           "Biscoe"
          ],
          [
           "Biscoe"
          ],
          [
           "Biscoe"
          ],
          [
           "Biscoe"
          ],
          [
           "Biscoe"
          ],
          [
           "Biscoe"
          ],
          [
           "Biscoe"
          ],
          [
           "Biscoe"
          ],
          [
           "Biscoe"
          ],
          [
           "Biscoe"
          ],
          [
           "Biscoe"
          ],
          [
           "Biscoe"
          ],
          [
           "Biscoe"
          ],
          [
           "Biscoe"
          ],
          [
           "Biscoe"
          ],
          [
           "Biscoe"
          ],
          [
           "Biscoe"
          ],
          [
           "Biscoe"
          ],
          [
           "Biscoe"
          ],
          [
           "Biscoe"
          ],
          [
           "Biscoe"
          ],
          [
           "Biscoe"
          ],
          [
           "Biscoe"
          ],
          [
           "Biscoe"
          ],
          [
           "Biscoe"
          ],
          [
           "Biscoe"
          ],
          [
           "Biscoe"
          ],
          [
           "Biscoe"
          ]
         ],
         "hovertemplate": "Cluster=Cluster 2<br>PCA1=%{x}<br>PCA2=%{y}<br>Feature=%{customdata[0]}<extra></extra>",
         "legendgroup": "Cluster 2",
         "marker": {
          "color": "#00cc96",
          "opacity": 0.5,
          "symbol": "circle"
         },
         "mode": "markers",
         "name": "Cluster 2",
         "orientation": "v",
         "showlegend": true,
         "textposition": "top center",
         "type": "scatter",
         "x": [
          2.320286338453673,
          3.067023266783377,
          3.6509020432410013,
          1.9714018296567022,
          3.1848136526760373,
          1.6380878381233188,
          2.49933587057873,
          2.346946694601851,
          1.6342732568710119,
          3.0149063870861164,
          1.553466557221105,
          2.443400570511088,
          3.387181907003665,
          2.1773947037303296,
          2.9464455320403338,
          2.094955821020569,
          2.497023357334833,
          1.7966794540559727,
          2.3687567478514966,
          1.6765637044051582,
          2.545376976233251,
          1.8774074855257394,
          1.96393267725283,
          2.7250561274376204,
          3.010692882910643,
          1.9230359093936158,
          3.2141352989127525,
          2.0005949799424974,
          3.2169918113433833,
          3.1061744355713365,
          2.052948258529372,
          3.301202668455142,
          2.282325544116373,
          2.0746736587175403,
          1.6175729814447433,
          2.303204361894919,
          1.2920829772037241,
          3.077213426622254,
          1.712890374387798,
          2.4056759588994847,
          2.9592649143714134,
          2.03517763477053,
          2.1623469500458827,
          2.9735504298076796,
          2.328464923179743,
          2.2899398524152317,
          2.0153532413905526,
          2.9612430395324902,
          1.6309628614218228,
          2.88346506204518,
          2.2382493948009228,
          1.629765421757889,
          2.375547290905295,
          2.6100075230907103,
          3.8435868998368083,
          1.518728789255493,
          2.9317855946767946,
          1.471845739116275,
          3.413783361203367,
          1.8744518062376496,
          2.8859413331554493,
          2.6333111101611983,
          2.1294769085597687,
          2.561459249215278,
          1.7948264865176873,
          2.25908193421551,
          2.3543167415897566,
          2.7899317848734424,
          1.9444691416213224,
          2.9728747254502936,
          2.7103482705075703,
          1.6749696244986416,
          1.8883640438333826,
          2.208498529716479,
          2.0625248018783537,
          1.5219944743579026,
          1.4642917587549644,
          1.9832529992601604,
          2.881887160600046,
          1.9999864808766046,
          2.95144348519306,
          1.9188416453782464,
          3.037194026166145,
          2.1860750348729003,
          3.1201173157503335,
          3.038097638477141,
          2.248773813391536,
          1.9062877250045254,
          2.9903279994587977,
          1.9373509849878696,
          2.9453204947488762,
          2.3489133165823266,
          2.379008860953858,
          1.7158388879251456,
          2.81118295808816,
          2.953020809890968,
          2.4487975526173473,
          2.0418341021326527,
          2.118617479574232,
          3.1310495373543565,
          1.5690170814854223,
          2.715371572922032,
          1.8923920677214408,
          3.5774397022447997,
          2.1859914059747934,
          3.1108809045171975,
          3.2278187020157287,
          2.8270541121690393,
          2.086833164384693,
          2.076793114689867,
          2.4245402169411197,
          2.5865718354927716,
          2.3389081704487933,
          1.972660333024758,
          3.2462482898239577,
          1.8885891655216978,
          3.114078185268783,
          3.169640353598237,
          3.1873038898163766
         ],
         "xaxis": "x",
         "y": [
          -1.165418237867387,
          0.7710889844229825,
          1.2897936472043559,
          -1.259710261170874,
          0.9782378308427327,
          -1.260522925872657,
          0.3066094506549636,
          -0.5896985185315231,
          -1.5512882718933434,
          0.9528814825057376,
          -1.514437827041006,
          0.4308725799131631,
          0.8468529803052515,
          -1.0959930616961906,
          0.3431810560645552,
          -1.0920555027648902,
          0.6496908625293341,
          -1.7388756809633235,
          0.23404699054037412,
          -1.6868554461981602,
          0.2506675394823111,
          -1.1997841474120838,
          -1.3670844645097153,
          0.18613902604621502,
          0.5954371404421789,
          -1.0968190878581447,
          0.894523117308685,
          -1.456208164325954,
          0.5278852372197201,
          0.7622428154542937,
          -0.8201545781988391,
          1.4710771121102844,
          -0.7957561689883996,
          0.4346196448243736,
          -1.6110964213672536,
          0.4269139616815033,
          -1.7795582511412054,
          0.765736029525497,
          -1.4792970920963313,
          0.3206002639933695,
          0.7670203431683482,
          -1.5474751336718637,
          -1.4056709132353886,
          0.761980407525687,
          -1.4009245223673596,
          0.20482679625813519,
          -1.171973896587685,
          0.20901412338691233,
          -1.3486830992874466,
          0.48593188799470755,
          -1.0760396573004456,
          -1.4463880389403496,
          0.10728186867197174,
          0.6204006208096869,
          1.881809122200372,
          -1.2945014260151337,
          0.6502228565405297,
          -1.8172023352222577,
          0.6737558534392079,
          -1.1686192187255944,
          0.4336605668748947,
          0.6302372445457963,
          -1.1697860170906904,
          -0.7147301192212273,
          -1.1904320498468233,
          -1.6053021942766827,
          0.11195292695043128,
          0.34319662448756816,
          -1.0718044127875825,
          0.600297801182238,
          0.33482600804386126,
          -1.5229792321175746,
          -1.2259869942489001,
          0.24565684176470995,
          -1.3601134639648507,
          -1.5830055321623466,
          -1.4935476513344552,
          -1.041759189804227,
          0.7025931932101585,
          -1.3879878607111886,
          1.1056523276303747,
          -1.3827158258179437,
          0.44119676688761705,
          -1.1126947714510418,
          1.1647749593645342,
          0.8490259751361089,
          -0.8664671436394114,
          -1.2113995919702347,
          0.7574541010726082,
          -1.220966007341303,
          0.7188177631465944,
          0.4843069050020194,
          -0.9703958705600484,
          -1.0900739034142506,
          0.890553485684722,
          1.1447949407036166,
          0.06582613120640411,
          -0.9398487309396474,
          -1.3384799077462244,
          0.6663086145360563,
          -1.4975625766826173,
          0.1732554644698226,
          -1.3570504703254287,
          1.1378882204504024,
          -1.193273233425657,
          0.9689013017004849,
          0.8468130047196856,
          0.5093246907117586,
          -1.3743856339669274,
          -0.9063313148164465,
          0.25721612003182964,
          0.4253247816900632,
          -0.943670494179908,
          -1.0233214701171176,
          0.7446373026222828,
          -1.1558802356992546,
          0.9621016347963167,
          0.6282339959224241,
          0.44838208523828854
         ],
         "yaxis": "y"
        }
       ],
       "layout": {
        "height": 600,
        "legend": {
         "title": {
          "text": "Cluster"
         },
         "tracegroupgap": 0
        },
        "margin": {
         "t": 60
        },
        "plot_bgcolor": "rgb(240,240,240)",
        "template": {
         "data": {
          "bar": [
           {
            "error_x": {
             "color": "#2a3f5f"
            },
            "error_y": {
             "color": "#2a3f5f"
            },
            "marker": {
             "line": {
              "color": "#E5ECF6",
              "width": 0.5
             },
             "pattern": {
              "fillmode": "overlay",
              "size": 10,
              "solidity": 0.2
             }
            },
            "type": "bar"
           }
          ],
          "barpolar": [
           {
            "marker": {
             "line": {
              "color": "#E5ECF6",
              "width": 0.5
             },
             "pattern": {
              "fillmode": "overlay",
              "size": 10,
              "solidity": 0.2
             }
            },
            "type": "barpolar"
           }
          ],
          "carpet": [
           {
            "aaxis": {
             "endlinecolor": "#2a3f5f",
             "gridcolor": "white",
             "linecolor": "white",
             "minorgridcolor": "white",
             "startlinecolor": "#2a3f5f"
            },
            "baxis": {
             "endlinecolor": "#2a3f5f",
             "gridcolor": "white",
             "linecolor": "white",
             "minorgridcolor": "white",
             "startlinecolor": "#2a3f5f"
            },
            "type": "carpet"
           }
          ],
          "choropleth": [
           {
            "colorbar": {
             "outlinewidth": 0,
             "ticks": ""
            },
            "type": "choropleth"
           }
          ],
          "contour": [
           {
            "colorbar": {
             "outlinewidth": 0,
             "ticks": ""
            },
            "colorscale": [
             [
              0,
              "#0d0887"
             ],
             [
              0.1111111111111111,
              "#46039f"
             ],
             [
              0.2222222222222222,
              "#7201a8"
             ],
             [
              0.3333333333333333,
              "#9c179e"
             ],
             [
              0.4444444444444444,
              "#bd3786"
             ],
             [
              0.5555555555555556,
              "#d8576b"
             ],
             [
              0.6666666666666666,
              "#ed7953"
             ],
             [
              0.7777777777777778,
              "#fb9f3a"
             ],
             [
              0.8888888888888888,
              "#fdca26"
             ],
             [
              1,
              "#f0f921"
             ]
            ],
            "type": "contour"
           }
          ],
          "contourcarpet": [
           {
            "colorbar": {
             "outlinewidth": 0,
             "ticks": ""
            },
            "type": "contourcarpet"
           }
          ],
          "heatmap": [
           {
            "colorbar": {
             "outlinewidth": 0,
             "ticks": ""
            },
            "colorscale": [
             [
              0,
              "#0d0887"
             ],
             [
              0.1111111111111111,
              "#46039f"
             ],
             [
              0.2222222222222222,
              "#7201a8"
             ],
             [
              0.3333333333333333,
              "#9c179e"
             ],
             [
              0.4444444444444444,
              "#bd3786"
             ],
             [
              0.5555555555555556,
              "#d8576b"
             ],
             [
              0.6666666666666666,
              "#ed7953"
             ],
             [
              0.7777777777777778,
              "#fb9f3a"
             ],
             [
              0.8888888888888888,
              "#fdca26"
             ],
             [
              1,
              "#f0f921"
             ]
            ],
            "type": "heatmap"
           }
          ],
          "heatmapgl": [
           {
            "colorbar": {
             "outlinewidth": 0,
             "ticks": ""
            },
            "colorscale": [
             [
              0,
              "#0d0887"
             ],
             [
              0.1111111111111111,
              "#46039f"
             ],
             [
              0.2222222222222222,
              "#7201a8"
             ],
             [
              0.3333333333333333,
              "#9c179e"
             ],
             [
              0.4444444444444444,
              "#bd3786"
             ],
             [
              0.5555555555555556,
              "#d8576b"
             ],
             [
              0.6666666666666666,
              "#ed7953"
             ],
             [
              0.7777777777777778,
              "#fb9f3a"
             ],
             [
              0.8888888888888888,
              "#fdca26"
             ],
             [
              1,
              "#f0f921"
             ]
            ],
            "type": "heatmapgl"
           }
          ],
          "histogram": [
           {
            "marker": {
             "pattern": {
              "fillmode": "overlay",
              "size": 10,
              "solidity": 0.2
             }
            },
            "type": "histogram"
           }
          ],
          "histogram2d": [
           {
            "colorbar": {
             "outlinewidth": 0,
             "ticks": ""
            },
            "colorscale": [
             [
              0,
              "#0d0887"
             ],
             [
              0.1111111111111111,
              "#46039f"
             ],
             [
              0.2222222222222222,
              "#7201a8"
             ],
             [
              0.3333333333333333,
              "#9c179e"
             ],
             [
              0.4444444444444444,
              "#bd3786"
             ],
             [
              0.5555555555555556,
              "#d8576b"
             ],
             [
              0.6666666666666666,
              "#ed7953"
             ],
             [
              0.7777777777777778,
              "#fb9f3a"
             ],
             [
              0.8888888888888888,
              "#fdca26"
             ],
             [
              1,
              "#f0f921"
             ]
            ],
            "type": "histogram2d"
           }
          ],
          "histogram2dcontour": [
           {
            "colorbar": {
             "outlinewidth": 0,
             "ticks": ""
            },
            "colorscale": [
             [
              0,
              "#0d0887"
             ],
             [
              0.1111111111111111,
              "#46039f"
             ],
             [
              0.2222222222222222,
              "#7201a8"
             ],
             [
              0.3333333333333333,
              "#9c179e"
             ],
             [
              0.4444444444444444,
              "#bd3786"
             ],
             [
              0.5555555555555556,
              "#d8576b"
             ],
             [
              0.6666666666666666,
              "#ed7953"
             ],
             [
              0.7777777777777778,
              "#fb9f3a"
             ],
             [
              0.8888888888888888,
              "#fdca26"
             ],
             [
              1,
              "#f0f921"
             ]
            ],
            "type": "histogram2dcontour"
           }
          ],
          "mesh3d": [
           {
            "colorbar": {
             "outlinewidth": 0,
             "ticks": ""
            },
            "type": "mesh3d"
           }
          ],
          "parcoords": [
           {
            "line": {
             "colorbar": {
              "outlinewidth": 0,
              "ticks": ""
             }
            },
            "type": "parcoords"
           }
          ],
          "pie": [
           {
            "automargin": true,
            "type": "pie"
           }
          ],
          "scatter": [
           {
            "fillpattern": {
             "fillmode": "overlay",
             "size": 10,
             "solidity": 0.2
            },
            "type": "scatter"
           }
          ],
          "scatter3d": [
           {
            "line": {
             "colorbar": {
              "outlinewidth": 0,
              "ticks": ""
             }
            },
            "marker": {
             "colorbar": {
              "outlinewidth": 0,
              "ticks": ""
             }
            },
            "type": "scatter3d"
           }
          ],
          "scattercarpet": [
           {
            "marker": {
             "colorbar": {
              "outlinewidth": 0,
              "ticks": ""
             }
            },
            "type": "scattercarpet"
           }
          ],
          "scattergeo": [
           {
            "marker": {
             "colorbar": {
              "outlinewidth": 0,
              "ticks": ""
             }
            },
            "type": "scattergeo"
           }
          ],
          "scattergl": [
           {
            "marker": {
             "colorbar": {
              "outlinewidth": 0,
              "ticks": ""
             }
            },
            "type": "scattergl"
           }
          ],
          "scattermapbox": [
           {
            "marker": {
             "colorbar": {
              "outlinewidth": 0,
              "ticks": ""
             }
            },
            "type": "scattermapbox"
           }
          ],
          "scatterpolar": [
           {
            "marker": {
             "colorbar": {
              "outlinewidth": 0,
              "ticks": ""
             }
            },
            "type": "scatterpolar"
           }
          ],
          "scatterpolargl": [
           {
            "marker": {
             "colorbar": {
              "outlinewidth": 0,
              "ticks": ""
             }
            },
            "type": "scatterpolargl"
           }
          ],
          "scatterternary": [
           {
            "marker": {
             "colorbar": {
              "outlinewidth": 0,
              "ticks": ""
             }
            },
            "type": "scatterternary"
           }
          ],
          "surface": [
           {
            "colorbar": {
             "outlinewidth": 0,
             "ticks": ""
            },
            "colorscale": [
             [
              0,
              "#0d0887"
             ],
             [
              0.1111111111111111,
              "#46039f"
             ],
             [
              0.2222222222222222,
              "#7201a8"
             ],
             [
              0.3333333333333333,
              "#9c179e"
             ],
             [
              0.4444444444444444,
              "#bd3786"
             ],
             [
              0.5555555555555556,
              "#d8576b"
             ],
             [
              0.6666666666666666,
              "#ed7953"
             ],
             [
              0.7777777777777778,
              "#fb9f3a"
             ],
             [
              0.8888888888888888,
              "#fdca26"
             ],
             [
              1,
              "#f0f921"
             ]
            ],
            "type": "surface"
           }
          ],
          "table": [
           {
            "cells": {
             "fill": {
              "color": "#EBF0F8"
             },
             "line": {
              "color": "white"
             }
            },
            "header": {
             "fill": {
              "color": "#C8D4E3"
             },
             "line": {
              "color": "white"
             }
            },
            "type": "table"
           }
          ]
         },
         "layout": {
          "annotationdefaults": {
           "arrowcolor": "#2a3f5f",
           "arrowhead": 0,
           "arrowwidth": 1
          },
          "autotypenumbers": "strict",
          "coloraxis": {
           "colorbar": {
            "outlinewidth": 0,
            "ticks": ""
           }
          },
          "colorscale": {
           "diverging": [
            [
             0,
             "#8e0152"
            ],
            [
             0.1,
             "#c51b7d"
            ],
            [
             0.2,
             "#de77ae"
            ],
            [
             0.3,
             "#f1b6da"
            ],
            [
             0.4,
             "#fde0ef"
            ],
            [
             0.5,
             "#f7f7f7"
            ],
            [
             0.6,
             "#e6f5d0"
            ],
            [
             0.7,
             "#b8e186"
            ],
            [
             0.8,
             "#7fbc41"
            ],
            [
             0.9,
             "#4d9221"
            ],
            [
             1,
             "#276419"
            ]
           ],
           "sequential": [
            [
             0,
             "#0d0887"
            ],
            [
             0.1111111111111111,
             "#46039f"
            ],
            [
             0.2222222222222222,
             "#7201a8"
            ],
            [
             0.3333333333333333,
             "#9c179e"
            ],
            [
             0.4444444444444444,
             "#bd3786"
            ],
            [
             0.5555555555555556,
             "#d8576b"
            ],
            [
             0.6666666666666666,
             "#ed7953"
            ],
            [
             0.7777777777777778,
             "#fb9f3a"
            ],
            [
             0.8888888888888888,
             "#fdca26"
            ],
            [
             1,
             "#f0f921"
            ]
           ],
           "sequentialminus": [
            [
             0,
             "#0d0887"
            ],
            [
             0.1111111111111111,
             "#46039f"
            ],
            [
             0.2222222222222222,
             "#7201a8"
            ],
            [
             0.3333333333333333,
             "#9c179e"
            ],
            [
             0.4444444444444444,
             "#bd3786"
            ],
            [
             0.5555555555555556,
             "#d8576b"
            ],
            [
             0.6666666666666666,
             "#ed7953"
            ],
            [
             0.7777777777777778,
             "#fb9f3a"
            ],
            [
             0.8888888888888888,
             "#fdca26"
            ],
            [
             1,
             "#f0f921"
            ]
           ]
          },
          "colorway": [
           "#636efa",
           "#EF553B",
           "#00cc96",
           "#ab63fa",
           "#FFA15A",
           "#19d3f3",
           "#FF6692",
           "#B6E880",
           "#FF97FF",
           "#FECB52"
          ],
          "font": {
           "color": "#2a3f5f"
          },
          "geo": {
           "bgcolor": "white",
           "lakecolor": "white",
           "landcolor": "#E5ECF6",
           "showlakes": true,
           "showland": true,
           "subunitcolor": "white"
          },
          "hoverlabel": {
           "align": "left"
          },
          "hovermode": "closest",
          "mapbox": {
           "style": "light"
          },
          "paper_bgcolor": "white",
          "plot_bgcolor": "#E5ECF6",
          "polar": {
           "angularaxis": {
            "gridcolor": "white",
            "linecolor": "white",
            "ticks": ""
           },
           "bgcolor": "#E5ECF6",
           "radialaxis": {
            "gridcolor": "white",
            "linecolor": "white",
            "ticks": ""
           }
          },
          "scene": {
           "xaxis": {
            "backgroundcolor": "#E5ECF6",
            "gridcolor": "white",
            "gridwidth": 2,
            "linecolor": "white",
            "showbackground": true,
            "ticks": "",
            "zerolinecolor": "white"
           },
           "yaxis": {
            "backgroundcolor": "#E5ECF6",
            "gridcolor": "white",
            "gridwidth": 2,
            "linecolor": "white",
            "showbackground": true,
            "ticks": "",
            "zerolinecolor": "white"
           },
           "zaxis": {
            "backgroundcolor": "#E5ECF6",
            "gridcolor": "white",
            "gridwidth": 2,
            "linecolor": "white",
            "showbackground": true,
            "ticks": "",
            "zerolinecolor": "white"
           }
          },
          "shapedefaults": {
           "line": {
            "color": "#2a3f5f"
           }
          },
          "ternary": {
           "aaxis": {
            "gridcolor": "white",
            "linecolor": "white",
            "ticks": ""
           },
           "baxis": {
            "gridcolor": "white",
            "linecolor": "white",
            "ticks": ""
           },
           "bgcolor": "#E5ECF6",
           "caxis": {
            "gridcolor": "white",
            "linecolor": "white",
            "ticks": ""
           }
          },
          "title": {
           "x": 0.05
          },
          "xaxis": {
           "automargin": true,
           "gridcolor": "white",
           "linecolor": "white",
           "ticks": "",
           "title": {
            "standoff": 15
           },
           "zerolinecolor": "white",
           "zerolinewidth": 2
          },
          "yaxis": {
           "automargin": true,
           "gridcolor": "white",
           "linecolor": "white",
           "ticks": "",
           "title": {
            "standoff": 15
           },
           "zerolinecolor": "white",
           "zerolinewidth": 2
          }
         }
        },
        "title": {
         "text": "2D Cluster PCA Plot"
        },
        "xaxis": {
         "anchor": "y",
         "domain": [
          0,
          1
         ],
         "title": {
          "text": "PCA1"
         }
        },
        "yaxis": {
         "anchor": "x",
         "domain": [
          0,
          1
         ],
         "title": {
          "text": "PCA2"
         }
        }
       }
      }
     },
     "metadata": {},
     "output_type": "display_data"
    },
    {
     "data": {
      "application/vnd.plotly.v1+json": {
       "config": {
        "plotlyServerURL": "https://plot.ly"
       },
       "data": [
        {
         "customdata": [
          [
           "Torgersen"
          ],
          [
           "Torgersen"
          ],
          [
           "Torgersen"
          ],
          [
           "Torgersen"
          ],
          [
           "Torgersen"
          ],
          [
           "Torgersen"
          ],
          [
           "Torgersen"
          ],
          [
           "Torgersen"
          ],
          [
           "Torgersen"
          ],
          [
           "Torgersen"
          ],
          [
           "Torgersen"
          ],
          [
           "Torgersen"
          ],
          [
           "Torgersen"
          ],
          [
           "Torgersen"
          ],
          [
           "Torgersen"
          ],
          [
           "Torgersen"
          ],
          [
           "Torgersen"
          ],
          [
           "Torgersen"
          ],
          [
           "Torgersen"
          ],
          [
           "Biscoe"
          ],
          [
           "Torgersen"
          ],
          [
           "Biscoe"
          ],
          [
           "Biscoe"
          ],
          [
           "Biscoe"
          ],
          [
           "Torgersen"
          ],
          [
           "Torgersen"
          ],
          [
           "Torgersen"
          ],
          [
           "Biscoe"
          ],
          [
           "Torgersen"
          ],
          [
           "Torgersen"
          ],
          [
           "Torgersen"
          ],
          [
           "Torgersen"
          ],
          [
           "Torgersen"
          ],
          [
           "Torgersen"
          ],
          [
           "Torgersen"
          ],
          [
           "Torgersen"
          ],
          [
           "Torgersen"
          ],
          [
           "Biscoe"
          ],
          [
           "Biscoe"
          ],
          [
           "Biscoe"
          ],
          [
           "Biscoe"
          ],
          [
           "Biscoe"
          ],
          [
           "Biscoe"
          ],
          [
           "Biscoe"
          ],
          [
           "Biscoe"
          ],
          [
           "Biscoe"
          ],
          [
           "Biscoe"
          ],
          [
           "Biscoe"
          ],
          [
           "Biscoe"
          ],
          [
           "Biscoe"
          ],
          [
           "Biscoe"
          ],
          [
           "Biscoe"
          ],
          [
           "Biscoe"
          ],
          [
           "Biscoe"
          ],
          [
           "Biscoe"
          ],
          [
           "Biscoe"
          ],
          [
           "Biscoe"
          ],
          [
           "Biscoe"
          ],
          [
           "Biscoe"
          ],
          [
           "Biscoe"
          ],
          [
           "Biscoe"
          ],
          [
           "Biscoe"
          ],
          [
           "Biscoe"
          ],
          [
           "Biscoe"
          ],
          [
           "Biscoe"
          ],
          [
           "Torgersen"
          ],
          [
           "Torgersen"
          ],
          [
           "Torgersen"
          ],
          [
           "Torgersen"
          ],
          [
           "Torgersen"
          ],
          [
           "Torgersen"
          ],
          [
           "Torgersen"
          ],
          [
           "Torgersen"
          ],
          [
           "Torgersen"
          ],
          [
           "Torgersen"
          ],
          [
           "Torgersen"
          ],
          [
           "Torgersen"
          ],
          [
           "Torgersen"
          ],
          [
           "Torgersen"
          ],
          [
           "Biscoe"
          ],
          [
           "Biscoe"
          ],
          [
           "Torgersen"
          ],
          [
           "Biscoe"
          ],
          [
           "Biscoe"
          ],
          [
           "Biscoe"
          ],
          [
           "Biscoe"
          ],
          [
           "Biscoe"
          ],
          [
           "Biscoe"
          ],
          [
           "Biscoe"
          ],
          [
           "Biscoe"
          ],
          [
           "Biscoe"
          ]
         ],
         "hovertemplate": "Cluster=Cluster 0<br>0=%{x}<br>1=%{y}<br>2=%{z}<br>Feature=%{customdata[0]}<extra></extra>",
         "legendgroup": "Cluster 0",
         "marker": {
          "color": "#636efa",
          "opacity": 0.7,
          "symbol": "circle"
         },
         "mode": "markers",
         "name": "Cluster 0",
         "scene": "scene",
         "showlegend": true,
         "type": "scatter3d",
         "x": [
          -8.967133,
          -8.199522,
          -9.953138,
          -8.628605,
          -7.8895454,
          -9.891837,
          -7.4642553,
          -9.730266,
          -7.9410925,
          -8.752061,
          -8.898421,
          -9.793709,
          -7.7017207,
          -10.231244,
          -8.679986,
          -9.281074,
          -7.371857,
          -9.63512,
          -7.786677,
          2.4001348,
          -9.646854,
          2.9496024,
          0.99121034,
          2.876071,
          -10.478668,
          -8.337117,
          -9.619442,
          1.403535,
          -7.757493,
          -10.012446,
          -8.628515,
          -9.182408,
          -7.7355366,
          -9.497957,
          -7.713918,
          -8.977746,
          -8.309915,
          3.0574274,
          1.2881426,
          1.7060512,
          2.6736324,
          2.6067867,
          1.9466686,
          2.9183095,
          1.3897779,
          1.8791623,
          1.9172347,
          2.1056416,
          0.84149975,
          1.8869816,
          1.4058888,
          2.6460652,
          1.8033375,
          2.1905594,
          1.5307748,
          2.1297278,
          1.0550848,
          1.6924479,
          2.309607,
          1.2555131,
          2.4680207,
          2.4051356,
          1.2866069,
          1.982451,
          1.1661267,
          -9.9236765,
          -7.3519287,
          -9.603988,
          -8.096936,
          -7.9732957,
          -8.590783,
          -8.998595,
          -8.780545,
          -9.153892,
          -8.399373,
          -9.113648,
          -7.760518,
          -8.467105,
          -8.575076,
          2.123528,
          1.1438206,
          -8.2569,
          1.7243118,
          1.090205,
          2.5820827,
          1.7349349,
          2.6872435,
          0.71234494,
          2.6966696,
          1.1787337,
          2.395814
         ],
         "y": [
          -1.1142086,
          -3.4419708,
          -0.64750737,
          -0.40436375,
          -2.7805243,
          -0.75541437,
          -3.8899727,
          -0.55431014,
          -4.0197167,
          -0.78281677,
          -3.5872827,
          -0.7135759,
          -3.2910452,
          -0.36656335,
          -3.55896,
          -1.0266522,
          -2.9182203,
          -0.2092469,
          -4.2933955,
          -0.0076724496,
          -0.5572265,
          -0.3503837,
          -4.0042105,
          -0.22512534,
          -0.7888463,
          -4.1278796,
          -0.80218536,
          -3.2227087,
          -4.424793,
          -0.8061245,
          -3.793847,
          -0.3829568,
          -3.9719734,
          -1.0898803,
          -3.8236756,
          -0.031127451,
          -4.306084,
          0.061068743,
          -2.1362152,
          -3.751863,
          0.52916604,
          0.98567796,
          -3.8133183,
          0.8313934,
          -3.8606684,
          -0.044245686,
          -3.636692,
          -0.77298725,
          -3.2848883,
          0.2304438,
          -4.311182,
          0.9933769,
          -3.525775,
          0.8680998,
          -4.127159,
          -0.32586762,
          -3.2955546,
          -3.374375,
          -0.88094926,
          -2.7210355,
          -1.1321533,
          -0.74272037,
          -2.6289308,
          -0.93893397,
          -3.2353735,
          0.4847579,
          -3.2916954,
          0.26554772,
          -3.0116947,
          -3.158166,
          0.20495406,
          0.06753322,
          -3.8664424,
          -0.16881704,
          -3.2539368,
          -0.23534237,
          -2.9085977,
          -3.5196683,
          -3.2457874,
          -0.5138262,
          -4.013729,
          -3.686997,
          -3.328146,
          -4.1755366,
          -0.2849003,
          -3.4198625,
          -0.47717983,
          -3.6149867,
          0.41846722,
          -3.376195,
          0.050789353
         ],
         "z": [
          8.519625,
          8.091993,
          8.430961,
          8.911088,
          7.763942,
          9.746068,
          7.812493,
          8.865207,
          7.1050534,
          8.569888,
          7.7624483,
          9.32284,
          7.4368095,
          9.19397,
          8.180653,
          8.83168,
          7.9624615,
          9.343353,
          7.80776,
          5.7734623,
          8.895,
          5.5654144,
          4.656455,
          5.615673,
          9.206658,
          8.071344,
          9.363066,
          3.773064,
          7.363916,
          8.875745,
          7.0143,
          8.209529,
          7.8360157,
          8.292274,
          7.473237,
          8.464131,
          7.851978,
          5.4195614,
          4.063392,
          4.365366,
          5.3450356,
          5.697232,
          3.5537732,
          5.513025,
          4.869696,
          5.2941184,
          3.606521,
          5.5292077,
          4.2401423,
          5.422436,
          4.65411,
          5.248083,
          4.21261,
          5.332723,
          3.8022723,
          5.043858,
          5.275282,
          4.719242,
          5.604634,
          4.110471,
          5.9673533,
          5.871232,
          4.0760713,
          5.7596946,
          5.155419,
          8.874411,
          7.756794,
          9.122596,
          8.418222,
          7.391312,
          8.86237,
          8.379694,
          7.466798,
          9.404029,
          7.2596397,
          8.271613,
          8.300006,
          8.429283,
          7.457945,
          5.9974866,
          4.3986754,
          8.157878,
          4.535816,
          4.8086567,
          5.18118,
          4.4528236,
          5.2801194,
          4.3950434,
          5.0874033,
          3.97041,
          5.868157
         ]
        },
        {
         "customdata": [
          [
           "Dream"
          ],
          [
           "Dream"
          ],
          [
           "Dream"
          ],
          [
           "Dream"
          ],
          [
           "Dream"
          ],
          [
           "Dream"
          ],
          [
           "Dream"
          ],
          [
           "Dream"
          ],
          [
           "Dream"
          ],
          [
           "Dream"
          ],
          [
           "Dream"
          ],
          [
           "Dream"
          ],
          [
           "Dream"
          ],
          [
           "Dream"
          ],
          [
           "Dream"
          ],
          [
           "Dream"
          ],
          [
           "Dream"
          ],
          [
           "Dream"
          ],
          [
           "Dream"
          ],
          [
           "Dream"
          ],
          [
           "Dream"
          ],
          [
           "Dream"
          ],
          [
           "Dream"
          ],
          [
           "Dream"
          ],
          [
           "Dream"
          ],
          [
           "Dream"
          ],
          [
           "Dream"
          ],
          [
           "Dream"
          ],
          [
           "Dream"
          ],
          [
           "Dream"
          ],
          [
           "Dream"
          ],
          [
           "Dream"
          ],
          [
           "Dream"
          ],
          [
           "Dream"
          ],
          [
           "Dream"
          ],
          [
           "Dream"
          ],
          [
           "Dream"
          ],
          [
           "Dream"
          ],
          [
           "Dream"
          ],
          [
           "Dream"
          ],
          [
           "Dream"
          ],
          [
           "Dream"
          ],
          [
           "Dream"
          ],
          [
           "Dream"
          ],
          [
           "Dream"
          ],
          [
           "Dream"
          ],
          [
           "Dream"
          ],
          [
           "Dream"
          ],
          [
           "Dream"
          ],
          [
           "Dream"
          ],
          [
           "Dream"
          ],
          [
           "Dream"
          ],
          [
           "Dream"
          ],
          [
           "Dream"
          ],
          [
           "Dream"
          ],
          [
           "Dream"
          ],
          [
           "Dream"
          ],
          [
           "Dream"
          ],
          [
           "Dream"
          ],
          [
           "Dream"
          ],
          [
           "Dream"
          ],
          [
           "Dream"
          ],
          [
           "Dream"
          ],
          [
           "Dream"
          ],
          [
           "Dream"
          ],
          [
           "Dream"
          ],
          [
           "Dream"
          ],
          [
           "Dream"
          ],
          [
           "Dream"
          ],
          [
           "Dream"
          ],
          [
           "Dream"
          ],
          [
           "Dream"
          ],
          [
           "Dream"
          ],
          [
           "Dream"
          ],
          [
           "Dream"
          ],
          [
           "Dream"
          ],
          [
           "Dream"
          ],
          [
           "Dream"
          ],
          [
           "Dream"
          ],
          [
           "Dream"
          ],
          [
           "Dream"
          ],
          [
           "Dream"
          ],
          [
           "Dream"
          ],
          [
           "Dream"
          ],
          [
           "Dream"
          ],
          [
           "Dream"
          ],
          [
           "Dream"
          ],
          [
           "Dream"
          ],
          [
           "Dream"
          ],
          [
           "Dream"
          ],
          [
           "Dream"
          ],
          [
           "Dream"
          ],
          [
           "Dream"
          ],
          [
           "Dream"
          ],
          [
           "Dream"
          ],
          [
           "Dream"
          ],
          [
           "Dream"
          ],
          [
           "Dream"
          ],
          [
           "Dream"
          ],
          [
           "Dream"
          ],
          [
           "Dream"
          ],
          [
           "Dream"
          ],
          [
           "Dream"
          ],
          [
           "Dream"
          ],
          [
           "Dream"
          ],
          [
           "Dream"
          ],
          [
           "Dream"
          ],
          [
           "Dream"
          ],
          [
           "Dream"
          ],
          [
           "Dream"
          ],
          [
           "Dream"
          ],
          [
           "Dream"
          ],
          [
           "Dream"
          ],
          [
           "Dream"
          ],
          [
           "Dream"
          ],
          [
           "Dream"
          ],
          [
           "Dream"
          ],
          [
           "Dream"
          ],
          [
           "Dream"
          ],
          [
           "Dream"
          ],
          [
           "Dream"
          ],
          [
           "Dream"
          ],
          [
           "Dream"
          ]
         ],
         "hovertemplate": "Cluster=Cluster 1<br>0=%{x}<br>1=%{y}<br>2=%{z}<br>Feature=%{customdata[0]}<extra></extra>",
         "legendgroup": "Cluster 1",
         "marker": {
          "color": "#EF553B",
          "opacity": 0.7,
          "symbol": "circle"
         },
         "mode": "markers",
         "name": "Cluster 1",
         "scene": "scene",
         "showlegend": true,
         "type": "scatter3d",
         "x": [
          -2.689907,
          -8.775366,
          -2.7224286,
          -4.2051473,
          -9.492031,
          -8.999214,
          -2.4111392,
          -8.399621,
          -9.042497,
          -3.708687,
          -3.7596319,
          -3.5241182,
          -2.900388,
          -9.8833885,
          -2.992857,
          -9.086634,
          -8.089072,
          -7.540854,
          -7.873122,
          -9.484252,
          -10.107878,
          -8.787526,
          -3.941439,
          -3.3093724,
          -4.042977,
          -7.6657944,
          -3.3840473,
          -10.039884,
          -3.6031072,
          -1.9729177,
          -9.062212,
          -7.86408,
          -9.191151,
          -2.56501,
          -7.7871375,
          -3.95312,
          -8.6585655,
          -2.486111,
          -2.841302,
          -2.8133318,
          -2.4519725,
          -8.716558,
          -9.43022,
          -2.6692393,
          -9.977735,
          -3.562605,
          -9.416695,
          -9.527203,
          -9.738678,
          -4.4981503,
          -2.364857,
          -3.7170897,
          -9.96323,
          -9.764321,
          -1.6540668,
          -8.797011,
          -2.065358,
          -1.881681,
          -8.539774,
          -3.850383,
          -9.425341,
          -9.619603,
          -2.1148536,
          -9.139124,
          -1.563176,
          -2.578608,
          -1.8121185,
          -9.886775,
          -6.868257,
          -6.3918076,
          -1.2976964,
          -5.7485733,
          -1.5541192,
          -2.2256224,
          -5.4947257,
          -1.0997237,
          -6.5190196,
          -2.3824856,
          -5.934221,
          -1.8193958,
          -1.5067337,
          -1.7301204,
          -2.7919161,
          -6.523685,
          -2.593419,
          -6.460217,
          -2.5600872,
          -1.6949941,
          -6.158612,
          -5.4786496,
          -2.3085196,
          -5.9557304,
          -1.7645495,
          -6.905013,
          -6.2331886,
          -6.7854457,
          -5.044013,
          -7.589663,
          -2.3033528,
          -6.679285,
          -2.4478421,
          -5.8827925,
          -1.834741,
          -2.0366418,
          -1.3771335,
          -6.255465,
          -1.203854,
          -6.5982027,
          -2.1606104,
          -6.1128936,
          -7.4230704,
          -1.9013351,
          -2.0640123,
          -5.7568383,
          -2.1036947,
          -2.3083038,
          -6.038918,
          -5.878942,
          -5.7678742,
          -2.9057543,
          -1.2292396,
          -6.8903217,
          -1.9658722
         ],
         "y": [
          8.669814,
          -0.80809313,
          8.937451,
          8.788995,
          -0.5701692,
          0.079735726,
          8.044855,
          -0.26919216,
          1.2492921,
          8.460669,
          9.301422,
          9.096017,
          9.059748,
          0.7028606,
          8.231861,
          -0.20244358,
          -2.1502395,
          -2.38302,
          -0.3160988,
          -0.1678543,
          -0.42197996,
          -0.056102924,
          8.613847,
          8.524009,
          7.5342784,
          -1.4222927,
          8.303937,
          0.3300808,
          9.355355,
          9.912256,
          0.5289572,
          -1.9008223,
          -0.79952705,
          9.0843935,
          -1.7171221,
          8.740291,
          -1.4842665,
          8.84129,
          8.873639,
          8.307666,
          9.2816725,
          -0.74050915,
          -0.9007082,
          10.163891,
          -1.0505049,
          7.858025,
          0.2569875,
          -0.8677095,
          0.09916245,
          8.125186,
          8.745493,
          8.006511,
          -0.50228083,
          0.24658662,
          10.089465,
          -1.8568809,
          9.94968,
          8.737886,
          -0.42742795,
          8.5337925,
          -1.0770329,
          0.6023802,
          8.724176,
          -0.2834902,
          9.061872,
          10.206266,
          8.927214,
          0.75071925,
          -3.4163997,
          -3.2166147,
          4.8944006,
          -1.9929165,
          4.1490126,
          4.3156376,
          -2.399015,
          4.0600824,
          -2.5485377,
          3.4932618,
          -3.2908862,
          4.5622125,
          3.1651483,
          3.7054985,
          3.1369193,
          -4.410263,
          3.3135917,
          -3.316586,
          3.1322236,
          3.5456035,
          -2.5071967,
          -2.8600903,
          3.3929224,
          -3.4506555,
          4.5773826,
          -2.3298707,
          -3.7246995,
          -4.315585,
          -2.7771153,
          -2.8505306,
          2.5925252,
          -2.236339,
          3.3060458,
          -3.1984994,
          4.454894,
          3.840652,
          4.7007537,
          -2.1128902,
          3.2094536,
          -2.936803,
          4.044443,
          -2.8164213,
          -1.0443529,
          5.0550785,
          3.4891503,
          -2.33532,
          3.3693197,
          4.285479,
          -2.628573,
          -1.8504593,
          -2.8787787,
          3.1149814,
          3.592125,
          -3.4149492,
          4.631531
         ],
         "z": [
          -2.721808,
          -5.6355715,
          -1.5033357,
          -1.3950429,
          -5.1692147,
          -4.777018,
          -2.76934,
          -5.63285,
          -6.493867,
          -1.629161,
          -1.3964603,
          -1.4580972,
          -2.4342144,
          -6.0100365,
          -1.7665286,
          -5.3368626,
          -5.5257673,
          -5.014816,
          -4.6585307,
          -5.397915,
          -5.2375755,
          -4.5942583,
          -2.0097346,
          -1.4707732,
          -2.6004605,
          -4.632721,
          -2.6032703,
          -4.771061,
          -1.8199095,
          -1.7872564,
          -5.982484,
          -5.1615863,
          -5.5264287,
          -1.4383754,
          -5.0017304,
          -2.387776,
          -5.7652636,
          -1.1542367,
          -2.1143959,
          -1.907751,
          -1.6482576,
          -6.13433,
          -5.7707562,
          -2.0290408,
          -4.8007455,
          -2.466225,
          -4.440903,
          -6.5278077,
          -6.272484,
          -2.271928,
          -2.146197,
          -2.1853938,
          -6.1629605,
          -5.2929215,
          -1.5273386,
          -6.2842903,
          -1.8752098,
          -1.2735152,
          -5.388739,
          -2.0008073,
          -5.7145267,
          -6.1184344,
          -2.5711975,
          -5.227668,
          -1.3819492,
          -1.4998693,
          -1.7414749,
          -5.71686,
          -4.3476367,
          -4.097037,
          -2.1216545,
          -3.8868363,
          -1.991626,
          -2.0471742,
          -4.0102024,
          -2.022923,
          -4.216163,
          -2.4245322,
          -4.3435645,
          -1.0236205,
          -1.9718745,
          -2.2694478,
          -2.4181902,
          -4.2589765,
          -2.5557911,
          -4.8867865,
          -1.5367454,
          -1.7598022,
          -3.4454694,
          -4.3987336,
          -2.0721812,
          -3.916839,
          -2.138051,
          -5.0049863,
          -3.8294783,
          -4.0120687,
          -4.559503,
          -4.3335576,
          -1.6839056,
          -4.392426,
          -1.4949104,
          -4.7879457,
          -0.56926644,
          -0.88224417,
          -2.3108773,
          -3.088334,
          -1.4778168,
          -3.4583342,
          -2.0560575,
          -3.3149443,
          -4.222253,
          -1.4499993,
          -1.2603829,
          -3.7116282,
          -0.91411334,
          -0.69754124,
          -4.3615317,
          -3.861037,
          -3.9804692,
          -1.4169226,
          -1.6823169,
          -4.3032355,
          -0.52886385
         ]
        },
        {
         "customdata": [
          [
           "Biscoe"
          ],
          [
           "Biscoe"
          ],
          [
           "Biscoe"
          ],
          [
           "Biscoe"
          ],
          [
           "Biscoe"
          ],
          [
           "Biscoe"
          ],
          [
           "Biscoe"
          ],
          [
           "Biscoe"
          ],
          [
           "Biscoe"
          ],
          [
           "Biscoe"
          ],
          [
           "Biscoe"
          ],
          [
           "Biscoe"
          ],
          [
           "Biscoe"
          ],
          [
           "Biscoe"
          ],
          [
           "Biscoe"
          ],
          [
           "Biscoe"
          ],
          [
           "Biscoe"
          ],
          [
           "Biscoe"
          ],
          [
           "Biscoe"
          ],
          [
           "Biscoe"
          ],
          [
           "Biscoe"
          ],
          [
           "Biscoe"
          ],
          [
           "Biscoe"
          ],
          [
           "Biscoe"
          ],
          [
           "Biscoe"
          ],
          [
           "Biscoe"
          ],
          [
           "Biscoe"
          ],
          [
           "Biscoe"
          ],
          [
           "Biscoe"
          ],
          [
           "Biscoe"
          ],
          [
           "Biscoe"
          ],
          [
           "Biscoe"
          ],
          [
           "Biscoe"
          ],
          [
           "Biscoe"
          ],
          [
           "Biscoe"
          ],
          [
           "Biscoe"
          ],
          [
           "Biscoe"
          ],
          [
           "Biscoe"
          ],
          [
           "Biscoe"
          ],
          [
           "Biscoe"
          ],
          [
           "Biscoe"
          ],
          [
           "Biscoe"
          ],
          [
           "Biscoe"
          ],
          [
           "Biscoe"
          ],
          [
           "Biscoe"
          ],
          [
           "Biscoe"
          ],
          [
           "Biscoe"
          ],
          [
           "Biscoe"
          ],
          [
           "Biscoe"
          ],
          [
           "Biscoe"
          ],
          [
           "Biscoe"
          ],
          [
           "Biscoe"
          ],
          [
           "Biscoe"
          ],
          [
           "Biscoe"
          ],
          [
           "Biscoe"
          ],
          [
           "Biscoe"
          ],
          [
           "Biscoe"
          ],
          [
           "Biscoe"
          ],
          [
           "Biscoe"
          ],
          [
           "Biscoe"
          ],
          [
           "Biscoe"
          ],
          [
           "Biscoe"
          ],
          [
           "Biscoe"
          ],
          [
           "Biscoe"
          ],
          [
           "Biscoe"
          ],
          [
           "Biscoe"
          ],
          [
           "Biscoe"
          ],
          [
           "Biscoe"
          ],
          [
           "Biscoe"
          ],
          [
           "Biscoe"
          ],
          [
           "Biscoe"
          ],
          [
           "Biscoe"
          ],
          [
           "Biscoe"
          ],
          [
           "Biscoe"
          ],
          [
           "Biscoe"
          ],
          [
           "Biscoe"
          ],
          [
           "Biscoe"
          ],
          [
           "Biscoe"
          ],
          [
           "Biscoe"
          ],
          [
           "Biscoe"
          ],
          [
           "Biscoe"
          ],
          [
           "Biscoe"
          ],
          [
           "Biscoe"
          ],
          [
           "Biscoe"
          ],
          [
           "Biscoe"
          ],
          [
           "Biscoe"
          ],
          [
           "Biscoe"
          ],
          [
           "Biscoe"
          ],
          [
           "Biscoe"
          ],
          [
           "Biscoe"
          ],
          [
           "Biscoe"
          ],
          [
           "Biscoe"
          ],
          [
           "Biscoe"
          ],
          [
           "Biscoe"
          ],
          [
           "Biscoe"
          ],
          [
           "Biscoe"
          ],
          [
           "Biscoe"
          ],
          [
           "Biscoe"
          ],
          [
           "Biscoe"
          ],
          [
           "Biscoe"
          ],
          [
           "Biscoe"
          ],
          [
           "Biscoe"
          ],
          [
           "Biscoe"
          ],
          [
           "Biscoe"
          ],
          [
           "Biscoe"
          ],
          [
           "Biscoe"
          ],
          [
           "Biscoe"
          ],
          [
           "Biscoe"
          ],
          [
           "Biscoe"
          ],
          [
           "Biscoe"
          ],
          [
           "Biscoe"
          ],
          [
           "Biscoe"
          ],
          [
           "Biscoe"
          ],
          [
           "Biscoe"
          ],
          [
           "Biscoe"
          ],
          [
           "Biscoe"
          ],
          [
           "Biscoe"
          ],
          [
           "Biscoe"
          ],
          [
           "Biscoe"
          ]
         ],
         "hovertemplate": "Cluster=Cluster 2<br>0=%{x}<br>1=%{y}<br>2=%{z}<br>Feature=%{customdata[0]}<extra></extra>",
         "legendgroup": "Cluster 2",
         "marker": {
          "color": "#00cc96",
          "opacity": 0.7,
          "symbol": "circle"
         },
         "mode": "markers",
         "name": "Cluster 2",
         "scene": "scene",
         "showlegend": true,
         "type": "scatter3d",
         "x": [
          3.5406897,
          11.5630245,
          10.663469,
          3.2095852,
          10.670513,
          4.580805,
          9.802793,
          1.9165211,
          5.020736,
          9.927795,
          5.3182254,
          10.050992,
          11.633304,
          3.2675185,
          9.82436,
          4.0568895,
          10.450282,
          5.8502207,
          9.021644,
          4.8659744,
          8.714599,
          3.8331404,
          3.6617193,
          8.973533,
          10.10486,
          2.3107712,
          11.276124,
          3.9124167,
          9.098198,
          10.6161175,
          2.643758,
          10.638426,
          2.3641617,
          9.930978,
          4.537461,
          10.070753,
          4.640887,
          10.906504,
          3.9014525,
          8.439287,
          10.271607,
          5.6512856,
          5.2420645,
          9.979276,
          5.3222075,
          9.333398,
          3.3783088,
          8.510392,
          3.7298737,
          8.614207,
          3.4051132,
          3.6998112,
          8.422062,
          10.235681,
          10.639591,
          3.27251,
          10.760973,
          4.951659,
          11.504219,
          3.412547,
          8.995418,
          10.462857,
          4.1110363,
          2.370589,
          2.993667,
          5.760845,
          8.722517,
          9.702254,
          2.42403,
          9.859713,
          8.681922,
          5.2396083,
          4.209688,
          9.056148,
          4.216316,
          4.482537,
          4.827393,
          2.7082112,
          9.864766,
          4.4690895,
          11.072294,
          4.917696,
          8.738699,
          3.1031868,
          10.885412,
          9.853272,
          2.723486,
          3.775065,
          10.781998,
          4.263157,
          9.476017,
          8.876687,
          3.0601501,
          2.198557,
          10.0392685,
          10.646845,
          8.2361,
          2.1175435,
          4.4536643,
          9.793411,
          3.8962176,
          8.400008,
          3.5480692,
          10.591352,
          3.7842107,
          11.366312,
          11.450202,
          11.9204235,
          5.0000663,
          2.4814444,
          8.517423,
          8.852721,
          3.340627,
          2.9132152,
          11.6331,
          2.6844344,
          11.3576765,
          9.566268,
          9.394537
         ],
         "y": [
          -11.309821,
          4.5494957,
          7.0359426,
          -10.154907,
          6.0919857,
          -10.942258,
          2.5282195,
          -12.725778,
          -9.548519,
          5.9023447,
          -10.242593,
          2.7304175,
          5.3964586,
          -11.734078,
          3.2492104,
          -12.553385,
          2.9966419,
          -10.346063,
          2.5851493,
          -8.916622,
          2.9840043,
          -11.383094,
          -9.625634,
          3.0293534,
          4.170659,
          -10.129142,
          5.6691685,
          -9.401828,
          5.05049,
          4.837854,
          -12.744803,
          7.1748624,
          -12.579614,
          2.2329135,
          -8.873291,
          2.3627257,
          -8.237143,
          5.0350714,
          -9.001108,
          3.5470023,
          4.946985,
          -10.91823,
          -11.39838,
          5.2802563,
          -11.203032,
          2.2782185,
          -11.131482,
          3.7237034,
          -9.470628,
          4.633708,
          -12.135767,
          -8.8982725,
          2.4970973,
          3.7531765,
          7.4997525,
          -9.155403,
          3.9690716,
          -8.454092,
          4.336294,
          -11.130968,
          4.1461654,
          3.4049852,
          -12.130773,
          -13.054278,
          -9.97399,
          -11.033189,
          2.4461117,
          3.1455634,
          -10.51721,
          4.457337,
          3.509489,
          -9.986895,
          -11.935441,
          2.4609978,
          -10.385629,
          -8.893063,
          -9.514765,
          -11.224696,
          5.0023417,
          -10.589386,
          6.2134876,
          -11.431686,
          4.26997,
          -11.248352,
          6.4648666,
          5.6665835,
          -12.633414,
          -11.242343,
          4.9039035,
          -11.754224,
          5.316933,
          3.4079235,
          -12.6371565,
          -10.119025,
          5.754749,
          6.44137,
          2.6824121,
          -10.894777,
          -10.8335705,
          4.9815254,
          -8.719569,
          3.091678,
          -9.763279,
          6.8549175,
          -11.694857,
          5.828785,
          5.4245663,
          4.0099277,
          -11.620839,
          -12.061802,
          2.895836,
          3.5994015,
          -12.916415,
          -11.854581,
          5.2517796,
          -10.351471,
          4.8862677,
          4.875066,
          4.029612
         ],
         "z": [
          -4.3645945,
          1.7365481,
          1.476653,
          -2.4233985,
          0.7945479,
          -1.7912064,
          2.283542,
          -3.1854372,
          -2.4700744,
          2.215047,
          -1.9749188,
          1.110298,
          1.3193405,
          -3.3714478,
          2.899563,
          -3.7889018,
          1.5051981,
          -2.6616004,
          1.1420882,
          -2.853247,
          1.153348,
          -3.4377053,
          -3.7638395,
          2.3402946,
          2.4038527,
          -3.641358,
          0.8655974,
          -3.7518947,
          1.5167445,
          1.9163581,
          -3.3417504,
          1.1119368,
          -2.839369,
          0.16699536,
          -2.8142207,
          1.8644938,
          -2.484094,
          1.3020129,
          -2.995621,
          0.080868095,
          1.5083457,
          -3.2014005,
          -3.0085003,
          1.0355014,
          -3.9618568,
          0.9384352,
          -3.9832838,
          2.3295648,
          -2.4557776,
          0.83457637,
          -2.9940305,
          -2.7612104,
          0.8728579,
          0.8703115,
          1.3790216,
          -2.417098,
          2.221771,
          -2.5524328,
          2.6058657,
          -3.8427496,
          1.4999905,
          1.4382901,
          -3.242128,
          -2.9465697,
          -2.6971858,
          -3.5230458,
          1.2693769,
          2.486325,
          -3.7288673,
          2.023677,
          1.1806473,
          -2.3612804,
          -4.2932115,
          0.7283243,
          -3.4632282,
          -2.5261137,
          -2.0972776,
          -3.4933307,
          0.95002395,
          -3.5006437,
          0.31899288,
          -2.211813,
          2.6947374,
          -4.1334944,
          0.5492483,
          2.026184,
          -2.9414556,
          -3.2836401,
          1.2350302,
          -2.9394085,
          0.81634504,
          0.14601417,
          -2.4271872,
          -4.2416973,
          0.5326311,
          0.40875083,
          1.0425341,
          -3.5939133,
          -3.3794825,
          1.7475098,
          -2.7974129,
          1.5000725,
          -2.8595076,
          1.4983442,
          -2.3632572,
          0.59868526,
          1.0254785,
          1.1602712,
          -2.3313477,
          -2.948097,
          0.700476,
          0.76652807,
          -3.2904062,
          -2.6679204,
          0.96139485,
          -3.7779477,
          2.1752367,
          2.0682065,
          2.8839414
         ]
        }
       ],
       "layout": {
        "height": 800,
        "legend": {
         "title": {
          "text": "Cluster"
         },
         "tracegroupgap": 0
        },
        "scene": {
         "domain": {
          "x": [
           0,
           1
          ],
          "y": [
           0,
           1
          ]
         },
         "xaxis": {
          "title": {
           "text": "0"
          }
         },
         "yaxis": {
          "title": {
           "text": "1"
          }
         },
         "zaxis": {
          "title": {
           "text": "2"
          }
         }
        },
        "template": {
         "data": {
          "bar": [
           {
            "error_x": {
             "color": "#2a3f5f"
            },
            "error_y": {
             "color": "#2a3f5f"
            },
            "marker": {
             "line": {
              "color": "#E5ECF6",
              "width": 0.5
             },
             "pattern": {
              "fillmode": "overlay",
              "size": 10,
              "solidity": 0.2
             }
            },
            "type": "bar"
           }
          ],
          "barpolar": [
           {
            "marker": {
             "line": {
              "color": "#E5ECF6",
              "width": 0.5
             },
             "pattern": {
              "fillmode": "overlay",
              "size": 10,
              "solidity": 0.2
             }
            },
            "type": "barpolar"
           }
          ],
          "carpet": [
           {
            "aaxis": {
             "endlinecolor": "#2a3f5f",
             "gridcolor": "white",
             "linecolor": "white",
             "minorgridcolor": "white",
             "startlinecolor": "#2a3f5f"
            },
            "baxis": {
             "endlinecolor": "#2a3f5f",
             "gridcolor": "white",
             "linecolor": "white",
             "minorgridcolor": "white",
             "startlinecolor": "#2a3f5f"
            },
            "type": "carpet"
           }
          ],
          "choropleth": [
           {
            "colorbar": {
             "outlinewidth": 0,
             "ticks": ""
            },
            "type": "choropleth"
           }
          ],
          "contour": [
           {
            "colorbar": {
             "outlinewidth": 0,
             "ticks": ""
            },
            "colorscale": [
             [
              0,
              "#0d0887"
             ],
             [
              0.1111111111111111,
              "#46039f"
             ],
             [
              0.2222222222222222,
              "#7201a8"
             ],
             [
              0.3333333333333333,
              "#9c179e"
             ],
             [
              0.4444444444444444,
              "#bd3786"
             ],
             [
              0.5555555555555556,
              "#d8576b"
             ],
             [
              0.6666666666666666,
              "#ed7953"
             ],
             [
              0.7777777777777778,
              "#fb9f3a"
             ],
             [
              0.8888888888888888,
              "#fdca26"
             ],
             [
              1,
              "#f0f921"
             ]
            ],
            "type": "contour"
           }
          ],
          "contourcarpet": [
           {
            "colorbar": {
             "outlinewidth": 0,
             "ticks": ""
            },
            "type": "contourcarpet"
           }
          ],
          "heatmap": [
           {
            "colorbar": {
             "outlinewidth": 0,
             "ticks": ""
            },
            "colorscale": [
             [
              0,
              "#0d0887"
             ],
             [
              0.1111111111111111,
              "#46039f"
             ],
             [
              0.2222222222222222,
              "#7201a8"
             ],
             [
              0.3333333333333333,
              "#9c179e"
             ],
             [
              0.4444444444444444,
              "#bd3786"
             ],
             [
              0.5555555555555556,
              "#d8576b"
             ],
             [
              0.6666666666666666,
              "#ed7953"
             ],
             [
              0.7777777777777778,
              "#fb9f3a"
             ],
             [
              0.8888888888888888,
              "#fdca26"
             ],
             [
              1,
              "#f0f921"
             ]
            ],
            "type": "heatmap"
           }
          ],
          "heatmapgl": [
           {
            "colorbar": {
             "outlinewidth": 0,
             "ticks": ""
            },
            "colorscale": [
             [
              0,
              "#0d0887"
             ],
             [
              0.1111111111111111,
              "#46039f"
             ],
             [
              0.2222222222222222,
              "#7201a8"
             ],
             [
              0.3333333333333333,
              "#9c179e"
             ],
             [
              0.4444444444444444,
              "#bd3786"
             ],
             [
              0.5555555555555556,
              "#d8576b"
             ],
             [
              0.6666666666666666,
              "#ed7953"
             ],
             [
              0.7777777777777778,
              "#fb9f3a"
             ],
             [
              0.8888888888888888,
              "#fdca26"
             ],
             [
              1,
              "#f0f921"
             ]
            ],
            "type": "heatmapgl"
           }
          ],
          "histogram": [
           {
            "marker": {
             "pattern": {
              "fillmode": "overlay",
              "size": 10,
              "solidity": 0.2
             }
            },
            "type": "histogram"
           }
          ],
          "histogram2d": [
           {
            "colorbar": {
             "outlinewidth": 0,
             "ticks": ""
            },
            "colorscale": [
             [
              0,
              "#0d0887"
             ],
             [
              0.1111111111111111,
              "#46039f"
             ],
             [
              0.2222222222222222,
              "#7201a8"
             ],
             [
              0.3333333333333333,
              "#9c179e"
             ],
             [
              0.4444444444444444,
              "#bd3786"
             ],
             [
              0.5555555555555556,
              "#d8576b"
             ],
             [
              0.6666666666666666,
              "#ed7953"
             ],
             [
              0.7777777777777778,
              "#fb9f3a"
             ],
             [
              0.8888888888888888,
              "#fdca26"
             ],
             [
              1,
              "#f0f921"
             ]
            ],
            "type": "histogram2d"
           }
          ],
          "histogram2dcontour": [
           {
            "colorbar": {
             "outlinewidth": 0,
             "ticks": ""
            },
            "colorscale": [
             [
              0,
              "#0d0887"
             ],
             [
              0.1111111111111111,
              "#46039f"
             ],
             [
              0.2222222222222222,
              "#7201a8"
             ],
             [
              0.3333333333333333,
              "#9c179e"
             ],
             [
              0.4444444444444444,
              "#bd3786"
             ],
             [
              0.5555555555555556,
              "#d8576b"
             ],
             [
              0.6666666666666666,
              "#ed7953"
             ],
             [
              0.7777777777777778,
              "#fb9f3a"
             ],
             [
              0.8888888888888888,
              "#fdca26"
             ],
             [
              1,
              "#f0f921"
             ]
            ],
            "type": "histogram2dcontour"
           }
          ],
          "mesh3d": [
           {
            "colorbar": {
             "outlinewidth": 0,
             "ticks": ""
            },
            "type": "mesh3d"
           }
          ],
          "parcoords": [
           {
            "line": {
             "colorbar": {
              "outlinewidth": 0,
              "ticks": ""
             }
            },
            "type": "parcoords"
           }
          ],
          "pie": [
           {
            "automargin": true,
            "type": "pie"
           }
          ],
          "scatter": [
           {
            "fillpattern": {
             "fillmode": "overlay",
             "size": 10,
             "solidity": 0.2
            },
            "type": "scatter"
           }
          ],
          "scatter3d": [
           {
            "line": {
             "colorbar": {
              "outlinewidth": 0,
              "ticks": ""
             }
            },
            "marker": {
             "colorbar": {
              "outlinewidth": 0,
              "ticks": ""
             }
            },
            "type": "scatter3d"
           }
          ],
          "scattercarpet": [
           {
            "marker": {
             "colorbar": {
              "outlinewidth": 0,
              "ticks": ""
             }
            },
            "type": "scattercarpet"
           }
          ],
          "scattergeo": [
           {
            "marker": {
             "colorbar": {
              "outlinewidth": 0,
              "ticks": ""
             }
            },
            "type": "scattergeo"
           }
          ],
          "scattergl": [
           {
            "marker": {
             "colorbar": {
              "outlinewidth": 0,
              "ticks": ""
             }
            },
            "type": "scattergl"
           }
          ],
          "scattermapbox": [
           {
            "marker": {
             "colorbar": {
              "outlinewidth": 0,
              "ticks": ""
             }
            },
            "type": "scattermapbox"
           }
          ],
          "scatterpolar": [
           {
            "marker": {
             "colorbar": {
              "outlinewidth": 0,
              "ticks": ""
             }
            },
            "type": "scatterpolar"
           }
          ],
          "scatterpolargl": [
           {
            "marker": {
             "colorbar": {
              "outlinewidth": 0,
              "ticks": ""
             }
            },
            "type": "scatterpolargl"
           }
          ],
          "scatterternary": [
           {
            "marker": {
             "colorbar": {
              "outlinewidth": 0,
              "ticks": ""
             }
            },
            "type": "scatterternary"
           }
          ],
          "surface": [
           {
            "colorbar": {
             "outlinewidth": 0,
             "ticks": ""
            },
            "colorscale": [
             [
              0,
              "#0d0887"
             ],
             [
              0.1111111111111111,
              "#46039f"
             ],
             [
              0.2222222222222222,
              "#7201a8"
             ],
             [
              0.3333333333333333,
              "#9c179e"
             ],
             [
              0.4444444444444444,
              "#bd3786"
             ],
             [
              0.5555555555555556,
              "#d8576b"
             ],
             [
              0.6666666666666666,
              "#ed7953"
             ],
             [
              0.7777777777777778,
              "#fb9f3a"
             ],
             [
              0.8888888888888888,
              "#fdca26"
             ],
             [
              1,
              "#f0f921"
             ]
            ],
            "type": "surface"
           }
          ],
          "table": [
           {
            "cells": {
             "fill": {
              "color": "#EBF0F8"
             },
             "line": {
              "color": "white"
             }
            },
            "header": {
             "fill": {
              "color": "#C8D4E3"
             },
             "line": {
              "color": "white"
             }
            },
            "type": "table"
           }
          ]
         },
         "layout": {
          "annotationdefaults": {
           "arrowcolor": "#2a3f5f",
           "arrowhead": 0,
           "arrowwidth": 1
          },
          "autotypenumbers": "strict",
          "coloraxis": {
           "colorbar": {
            "outlinewidth": 0,
            "ticks": ""
           }
          },
          "colorscale": {
           "diverging": [
            [
             0,
             "#8e0152"
            ],
            [
             0.1,
             "#c51b7d"
            ],
            [
             0.2,
             "#de77ae"
            ],
            [
             0.3,
             "#f1b6da"
            ],
            [
             0.4,
             "#fde0ef"
            ],
            [
             0.5,
             "#f7f7f7"
            ],
            [
             0.6,
             "#e6f5d0"
            ],
            [
             0.7,
             "#b8e186"
            ],
            [
             0.8,
             "#7fbc41"
            ],
            [
             0.9,
             "#4d9221"
            ],
            [
             1,
             "#276419"
            ]
           ],
           "sequential": [
            [
             0,
             "#0d0887"
            ],
            [
             0.1111111111111111,
             "#46039f"
            ],
            [
             0.2222222222222222,
             "#7201a8"
            ],
            [
             0.3333333333333333,
             "#9c179e"
            ],
            [
             0.4444444444444444,
             "#bd3786"
            ],
            [
             0.5555555555555556,
             "#d8576b"
            ],
            [
             0.6666666666666666,
             "#ed7953"
            ],
            [
             0.7777777777777778,
             "#fb9f3a"
            ],
            [
             0.8888888888888888,
             "#fdca26"
            ],
            [
             1,
             "#f0f921"
            ]
           ],
           "sequentialminus": [
            [
             0,
             "#0d0887"
            ],
            [
             0.1111111111111111,
             "#46039f"
            ],
            [
             0.2222222222222222,
             "#7201a8"
            ],
            [
             0.3333333333333333,
             "#9c179e"
            ],
            [
             0.4444444444444444,
             "#bd3786"
            ],
            [
             0.5555555555555556,
             "#d8576b"
            ],
            [
             0.6666666666666666,
             "#ed7953"
            ],
            [
             0.7777777777777778,
             "#fb9f3a"
            ],
            [
             0.8888888888888888,
             "#fdca26"
            ],
            [
             1,
             "#f0f921"
            ]
           ]
          },
          "colorway": [
           "#636efa",
           "#EF553B",
           "#00cc96",
           "#ab63fa",
           "#FFA15A",
           "#19d3f3",
           "#FF6692",
           "#B6E880",
           "#FF97FF",
           "#FECB52"
          ],
          "font": {
           "color": "#2a3f5f"
          },
          "geo": {
           "bgcolor": "white",
           "lakecolor": "white",
           "landcolor": "#E5ECF6",
           "showlakes": true,
           "showland": true,
           "subunitcolor": "white"
          },
          "hoverlabel": {
           "align": "left"
          },
          "hovermode": "closest",
          "mapbox": {
           "style": "light"
          },
          "paper_bgcolor": "white",
          "plot_bgcolor": "#E5ECF6",
          "polar": {
           "angularaxis": {
            "gridcolor": "white",
            "linecolor": "white",
            "ticks": ""
           },
           "bgcolor": "#E5ECF6",
           "radialaxis": {
            "gridcolor": "white",
            "linecolor": "white",
            "ticks": ""
           }
          },
          "scene": {
           "xaxis": {
            "backgroundcolor": "#E5ECF6",
            "gridcolor": "white",
            "gridwidth": 2,
            "linecolor": "white",
            "showbackground": true,
            "ticks": "",
            "zerolinecolor": "white"
           },
           "yaxis": {
            "backgroundcolor": "#E5ECF6",
            "gridcolor": "white",
            "gridwidth": 2,
            "linecolor": "white",
            "showbackground": true,
            "ticks": "",
            "zerolinecolor": "white"
           },
           "zaxis": {
            "backgroundcolor": "#E5ECF6",
            "gridcolor": "white",
            "gridwidth": 2,
            "linecolor": "white",
            "showbackground": true,
            "ticks": "",
            "zerolinecolor": "white"
           }
          },
          "shapedefaults": {
           "line": {
            "color": "#2a3f5f"
           }
          },
          "ternary": {
           "aaxis": {
            "gridcolor": "white",
            "linecolor": "white",
            "ticks": ""
           },
           "baxis": {
            "gridcolor": "white",
            "linecolor": "white",
            "ticks": ""
           },
           "bgcolor": "#E5ECF6",
           "caxis": {
            "gridcolor": "white",
            "linecolor": "white",
            "ticks": ""
           }
          },
          "title": {
           "x": 0.05
          },
          "xaxis": {
           "automargin": true,
           "gridcolor": "white",
           "linecolor": "white",
           "ticks": "",
           "title": {
            "standoff": 15
           },
           "zerolinecolor": "white",
           "zerolinewidth": 2
          },
          "yaxis": {
           "automargin": true,
           "gridcolor": "white",
           "linecolor": "white",
           "ticks": "",
           "title": {
            "standoff": 15
           },
           "zerolinecolor": "white",
           "zerolinewidth": 2
          }
         }
        },
        "title": {
         "text": "3d TSNE Plot for Clusters"
        },
        "width": 900
       }
      }
     },
     "metadata": {},
     "output_type": "display_data"
    }
   ],
   "source": [
    "evaluate_model(model)"
   ]
  },
  {
   "cell_type": "code",
   "execution_count": 46,
   "metadata": {},
   "outputs": [
    {
     "data": {
      "text/html": [
       "<div>\n",
       "<style scoped>\n",
       "    .dataframe tbody tr th:only-of-type {\n",
       "        vertical-align: middle;\n",
       "    }\n",
       "\n",
       "    .dataframe tbody tr th {\n",
       "        vertical-align: top;\n",
       "    }\n",
       "\n",
       "    .dataframe thead th {\n",
       "        text-align: right;\n",
       "    }\n",
       "</style>\n",
       "<table border=\"1\" class=\"dataframe\">\n",
       "  <thead>\n",
       "    <tr style=\"text-align: right;\">\n",
       "      <th></th>\n",
       "      <th>island</th>\n",
       "      <th>bill_length_mm</th>\n",
       "      <th>bill_depth_mm</th>\n",
       "      <th>flipper_length_mm</th>\n",
       "      <th>body_mass_g</th>\n",
       "      <th>sex</th>\n",
       "      <th>Cluster</th>\n",
       "    </tr>\n",
       "  </thead>\n",
       "  <tbody>\n",
       "    <tr>\n",
       "      <th>0</th>\n",
       "      <td>Torgersen</td>\n",
       "      <td>39.099998</td>\n",
       "      <td>18.700001</td>\n",
       "      <td>181</td>\n",
       "      <td>3750</td>\n",
       "      <td>Male</td>\n",
       "      <td>Cluster 0</td>\n",
       "    </tr>\n",
       "    <tr>\n",
       "      <th>1</th>\n",
       "      <td>Torgersen</td>\n",
       "      <td>39.500000</td>\n",
       "      <td>17.400000</td>\n",
       "      <td>186</td>\n",
       "      <td>3800</td>\n",
       "      <td>Female</td>\n",
       "      <td>Cluster 0</td>\n",
       "    </tr>\n",
       "    <tr>\n",
       "      <th>2</th>\n",
       "      <td>Torgersen</td>\n",
       "      <td>40.299999</td>\n",
       "      <td>18.000000</td>\n",
       "      <td>195</td>\n",
       "      <td>3250</td>\n",
       "      <td>Female</td>\n",
       "      <td>Cluster 0</td>\n",
       "    </tr>\n",
       "    <tr>\n",
       "      <th>3</th>\n",
       "      <td>Torgersen</td>\n",
       "      <td>36.700001</td>\n",
       "      <td>19.299999</td>\n",
       "      <td>193</td>\n",
       "      <td>3450</td>\n",
       "      <td>Female</td>\n",
       "      <td>Cluster 0</td>\n",
       "    </tr>\n",
       "    <tr>\n",
       "      <th>4</th>\n",
       "      <td>Torgersen</td>\n",
       "      <td>39.299999</td>\n",
       "      <td>20.600000</td>\n",
       "      <td>190</td>\n",
       "      <td>3650</td>\n",
       "      <td>Male</td>\n",
       "      <td>Cluster 0</td>\n",
       "    </tr>\n",
       "    <tr>\n",
       "      <th>...</th>\n",
       "      <td>...</td>\n",
       "      <td>...</td>\n",
       "      <td>...</td>\n",
       "      <td>...</td>\n",
       "      <td>...</td>\n",
       "      <td>...</td>\n",
       "      <td>...</td>\n",
       "    </tr>\n",
       "    <tr>\n",
       "      <th>328</th>\n",
       "      <td>Dream</td>\n",
       "      <td>55.799999</td>\n",
       "      <td>19.799999</td>\n",
       "      <td>207</td>\n",
       "      <td>4000</td>\n",
       "      <td>Male</td>\n",
       "      <td>Cluster 1</td>\n",
       "    </tr>\n",
       "    <tr>\n",
       "      <th>329</th>\n",
       "      <td>Dream</td>\n",
       "      <td>43.500000</td>\n",
       "      <td>18.100000</td>\n",
       "      <td>202</td>\n",
       "      <td>3400</td>\n",
       "      <td>Female</td>\n",
       "      <td>Cluster 1</td>\n",
       "    </tr>\n",
       "    <tr>\n",
       "      <th>330</th>\n",
       "      <td>Dream</td>\n",
       "      <td>49.599998</td>\n",
       "      <td>18.200001</td>\n",
       "      <td>193</td>\n",
       "      <td>3775</td>\n",
       "      <td>Male</td>\n",
       "      <td>Cluster 1</td>\n",
       "    </tr>\n",
       "    <tr>\n",
       "      <th>331</th>\n",
       "      <td>Dream</td>\n",
       "      <td>50.799999</td>\n",
       "      <td>19.000000</td>\n",
       "      <td>210</td>\n",
       "      <td>4100</td>\n",
       "      <td>Male</td>\n",
       "      <td>Cluster 1</td>\n",
       "    </tr>\n",
       "    <tr>\n",
       "      <th>332</th>\n",
       "      <td>Dream</td>\n",
       "      <td>50.200001</td>\n",
       "      <td>18.700001</td>\n",
       "      <td>198</td>\n",
       "      <td>3775</td>\n",
       "      <td>Female</td>\n",
       "      <td>Cluster 1</td>\n",
       "    </tr>\n",
       "  </tbody>\n",
       "</table>\n",
       "<p>333 rows × 7 columns</p>\n",
       "</div>"
      ],
      "text/plain": [
       "        island  bill_length_mm  bill_depth_mm  flipper_length_mm  body_mass_g  \\\n",
       "0    Torgersen       39.099998      18.700001                181         3750   \n",
       "1    Torgersen       39.500000      17.400000                186         3800   \n",
       "2    Torgersen       40.299999      18.000000                195         3250   \n",
       "3    Torgersen       36.700001      19.299999                193         3450   \n",
       "4    Torgersen       39.299999      20.600000                190         3650   \n",
       "..         ...             ...            ...                ...          ...   \n",
       "328      Dream       55.799999      19.799999                207         4000   \n",
       "329      Dream       43.500000      18.100000                202         3400   \n",
       "330      Dream       49.599998      18.200001                193         3775   \n",
       "331      Dream       50.799999      19.000000                210         4100   \n",
       "332      Dream       50.200001      18.700001                198         3775   \n",
       "\n",
       "        sex    Cluster  \n",
       "0      Male  Cluster 0  \n",
       "1    Female  Cluster 0  \n",
       "2    Female  Cluster 0  \n",
       "3    Female  Cluster 0  \n",
       "4      Male  Cluster 0  \n",
       "..      ...        ...  \n",
       "328    Male  Cluster 1  \n",
       "329  Female  Cluster 1  \n",
       "330    Male  Cluster 1  \n",
       "331    Male  Cluster 1  \n",
       "332  Female  Cluster 1  \n",
       "\n",
       "[333 rows x 7 columns]"
      ]
     },
     "execution_count": 46,
     "metadata": {},
     "output_type": "execute_result"
    }
   ],
   "source": [
    "res = assign_model(model)\n",
    "res"
   ]
  },
  {
   "cell_type": "code",
   "execution_count": 47,
   "metadata": {},
   "outputs": [
    {
     "data": {
      "text/html": [
       "<div>\n",
       "<style scoped>\n",
       "    .dataframe tbody tr th:only-of-type {\n",
       "        vertical-align: middle;\n",
       "    }\n",
       "\n",
       "    .dataframe tbody tr th {\n",
       "        vertical-align: top;\n",
       "    }\n",
       "\n",
       "    .dataframe thead th {\n",
       "        text-align: right;\n",
       "    }\n",
       "</style>\n",
       "<table border=\"1\" class=\"dataframe\">\n",
       "  <thead>\n",
       "    <tr style=\"text-align: right;\">\n",
       "      <th></th>\n",
       "      <th>island</th>\n",
       "      <th>bill_length_mm</th>\n",
       "      <th>bill_depth_mm</th>\n",
       "      <th>flipper_length_mm</th>\n",
       "      <th>body_mass_g</th>\n",
       "      <th>sex</th>\n",
       "      <th>Cluster</th>\n",
       "      <th>species</th>\n",
       "    </tr>\n",
       "  </thead>\n",
       "  <tbody>\n",
       "    <tr>\n",
       "      <th>0</th>\n",
       "      <td>Torgersen</td>\n",
       "      <td>39.099998</td>\n",
       "      <td>18.700001</td>\n",
       "      <td>181</td>\n",
       "      <td>3750</td>\n",
       "      <td>Male</td>\n",
       "      <td>Cluster 0</td>\n",
       "      <td>Adelie</td>\n",
       "    </tr>\n",
       "    <tr>\n",
       "      <th>1</th>\n",
       "      <td>Torgersen</td>\n",
       "      <td>39.500000</td>\n",
       "      <td>17.400000</td>\n",
       "      <td>186</td>\n",
       "      <td>3800</td>\n",
       "      <td>Female</td>\n",
       "      <td>Cluster 0</td>\n",
       "      <td>Adelie</td>\n",
       "    </tr>\n",
       "    <tr>\n",
       "      <th>2</th>\n",
       "      <td>Torgersen</td>\n",
       "      <td>40.299999</td>\n",
       "      <td>18.000000</td>\n",
       "      <td>195</td>\n",
       "      <td>3250</td>\n",
       "      <td>Female</td>\n",
       "      <td>Cluster 0</td>\n",
       "      <td>Adelie</td>\n",
       "    </tr>\n",
       "    <tr>\n",
       "      <th>3</th>\n",
       "      <td>Torgersen</td>\n",
       "      <td>36.700001</td>\n",
       "      <td>19.299999</td>\n",
       "      <td>193</td>\n",
       "      <td>3450</td>\n",
       "      <td>Female</td>\n",
       "      <td>Cluster 0</td>\n",
       "      <td>Adelie</td>\n",
       "    </tr>\n",
       "    <tr>\n",
       "      <th>4</th>\n",
       "      <td>Torgersen</td>\n",
       "      <td>39.299999</td>\n",
       "      <td>20.600000</td>\n",
       "      <td>190</td>\n",
       "      <td>3650</td>\n",
       "      <td>Male</td>\n",
       "      <td>Cluster 0</td>\n",
       "      <td>Adelie</td>\n",
       "    </tr>\n",
       "    <tr>\n",
       "      <th>...</th>\n",
       "      <td>...</td>\n",
       "      <td>...</td>\n",
       "      <td>...</td>\n",
       "      <td>...</td>\n",
       "      <td>...</td>\n",
       "      <td>...</td>\n",
       "      <td>...</td>\n",
       "      <td>...</td>\n",
       "    </tr>\n",
       "    <tr>\n",
       "      <th>328</th>\n",
       "      <td>Dream</td>\n",
       "      <td>55.799999</td>\n",
       "      <td>19.799999</td>\n",
       "      <td>207</td>\n",
       "      <td>4000</td>\n",
       "      <td>Male</td>\n",
       "      <td>Cluster 1</td>\n",
       "      <td>Chinstrap</td>\n",
       "    </tr>\n",
       "    <tr>\n",
       "      <th>329</th>\n",
       "      <td>Dream</td>\n",
       "      <td>43.500000</td>\n",
       "      <td>18.100000</td>\n",
       "      <td>202</td>\n",
       "      <td>3400</td>\n",
       "      <td>Female</td>\n",
       "      <td>Cluster 1</td>\n",
       "      <td>Chinstrap</td>\n",
       "    </tr>\n",
       "    <tr>\n",
       "      <th>330</th>\n",
       "      <td>Dream</td>\n",
       "      <td>49.599998</td>\n",
       "      <td>18.200001</td>\n",
       "      <td>193</td>\n",
       "      <td>3775</td>\n",
       "      <td>Male</td>\n",
       "      <td>Cluster 1</td>\n",
       "      <td>Chinstrap</td>\n",
       "    </tr>\n",
       "    <tr>\n",
       "      <th>331</th>\n",
       "      <td>Dream</td>\n",
       "      <td>50.799999</td>\n",
       "      <td>19.000000</td>\n",
       "      <td>210</td>\n",
       "      <td>4100</td>\n",
       "      <td>Male</td>\n",
       "      <td>Cluster 1</td>\n",
       "      <td>Chinstrap</td>\n",
       "    </tr>\n",
       "    <tr>\n",
       "      <th>332</th>\n",
       "      <td>Dream</td>\n",
       "      <td>50.200001</td>\n",
       "      <td>18.700001</td>\n",
       "      <td>198</td>\n",
       "      <td>3775</td>\n",
       "      <td>Female</td>\n",
       "      <td>Cluster 1</td>\n",
       "      <td>Chinstrap</td>\n",
       "    </tr>\n",
       "  </tbody>\n",
       "</table>\n",
       "<p>333 rows × 8 columns</p>\n",
       "</div>"
      ],
      "text/plain": [
       "        island  bill_length_mm  bill_depth_mm  flipper_length_mm  body_mass_g  \\\n",
       "0    Torgersen       39.099998      18.700001                181         3750   \n",
       "1    Torgersen       39.500000      17.400000                186         3800   \n",
       "2    Torgersen       40.299999      18.000000                195         3250   \n",
       "3    Torgersen       36.700001      19.299999                193         3450   \n",
       "4    Torgersen       39.299999      20.600000                190         3650   \n",
       "..         ...             ...            ...                ...          ...   \n",
       "328      Dream       55.799999      19.799999                207         4000   \n",
       "329      Dream       43.500000      18.100000                202         3400   \n",
       "330      Dream       49.599998      18.200001                193         3775   \n",
       "331      Dream       50.799999      19.000000                210         4100   \n",
       "332      Dream       50.200001      18.700001                198         3775   \n",
       "\n",
       "        sex    Cluster    species  \n",
       "0      Male  Cluster 0     Adelie  \n",
       "1    Female  Cluster 0     Adelie  \n",
       "2    Female  Cluster 0     Adelie  \n",
       "3    Female  Cluster 0     Adelie  \n",
       "4      Male  Cluster 0     Adelie  \n",
       "..      ...        ...        ...  \n",
       "328    Male  Cluster 1  Chinstrap  \n",
       "329  Female  Cluster 1  Chinstrap  \n",
       "330    Male  Cluster 1  Chinstrap  \n",
       "331    Male  Cluster 1  Chinstrap  \n",
       "332  Female  Cluster 1  Chinstrap  \n",
       "\n",
       "[333 rows x 8 columns]"
      ]
     },
     "execution_count": 47,
     "metadata": {},
     "output_type": "execute_result"
    }
   ],
   "source": [
    "res['species'] = df['species']\n",
    "res"
   ]
  },
  {
   "cell_type": "code",
   "execution_count": null,
   "metadata": {},
   "outputs": [],
   "source": []
  },
  {
   "cell_type": "code",
   "execution_count": 56,
   "metadata": {},
   "outputs": [
    {
     "data": {
      "text/html": [
       "<div>\n",
       "<style scoped>\n",
       "    .dataframe tbody tr th:only-of-type {\n",
       "        vertical-align: middle;\n",
       "    }\n",
       "\n",
       "    .dataframe tbody tr th {\n",
       "        vertical-align: top;\n",
       "    }\n",
       "\n",
       "    .dataframe thead th {\n",
       "        text-align: right;\n",
       "    }\n",
       "</style>\n",
       "<table border=\"1\" class=\"dataframe\">\n",
       "  <thead>\n",
       "    <tr style=\"text-align: right;\">\n",
       "      <th></th>\n",
       "      <th></th>\n",
       "      <th>Cluster</th>\n",
       "    </tr>\n",
       "    <tr>\n",
       "      <th>species</th>\n",
       "      <th>Cluster</th>\n",
       "      <th></th>\n",
       "    </tr>\n",
       "  </thead>\n",
       "  <tbody>\n",
       "    <tr>\n",
       "      <th rowspan=\"2\" valign=\"top\">Adelie</th>\n",
       "      <th>Cluster 0</th>\n",
       "      <td>91</td>\n",
       "    </tr>\n",
       "    <tr>\n",
       "      <th>Cluster 1</th>\n",
       "      <td>55</td>\n",
       "    </tr>\n",
       "    <tr>\n",
       "      <th>Chinstrap</th>\n",
       "      <th>Cluster 1</th>\n",
       "      <td>68</td>\n",
       "    </tr>\n",
       "    <tr>\n",
       "      <th>Gentoo</th>\n",
       "      <th>Cluster 2</th>\n",
       "      <td>119</td>\n",
       "    </tr>\n",
       "  </tbody>\n",
       "</table>\n",
       "</div>"
      ],
      "text/plain": [
       "                     Cluster\n",
       "species   Cluster           \n",
       "Adelie    Cluster 0       91\n",
       "          Cluster 1       55\n",
       "Chinstrap Cluster 1       68\n",
       "Gentoo    Cluster 2      119"
      ]
     },
     "execution_count": 56,
     "metadata": {},
     "output_type": "execute_result"
    }
   ],
   "source": [
    "pd.DataFrame(res.groupby(['species', 'Cluster'])['Cluster'].count())"
   ]
  },
  {
   "cell_type": "code",
   "execution_count": null,
   "metadata": {},
   "outputs": [],
   "source": []
  },
  {
   "cell_type": "code",
   "execution_count": null,
   "metadata": {},
   "outputs": [],
   "source": []
  },
  {
   "cell_type": "code",
   "execution_count": null,
   "metadata": {},
   "outputs": [],
   "source": []
  },
  {
   "cell_type": "code",
   "execution_count": null,
   "metadata": {},
   "outputs": [],
   "source": []
  },
  {
   "cell_type": "code",
   "execution_count": null,
   "metadata": {},
   "outputs": [],
   "source": []
  },
  {
   "cell_type": "code",
   "execution_count": null,
   "metadata": {},
   "outputs": [],
   "source": []
  },
  {
   "cell_type": "code",
   "execution_count": null,
   "metadata": {},
   "outputs": [],
   "source": []
  },
  {
   "cell_type": "code",
   "execution_count": null,
   "metadata": {},
   "outputs": [],
   "source": []
  }
 ],
 "metadata": {
  "kernelspec": {
   "display_name": "pip310",
   "language": "python",
   "name": "python3"
  },
  "language_info": {
   "codemirror_mode": {
    "name": "ipython",
    "version": 3
   },
   "file_extension": ".py",
   "mimetype": "text/x-python",
   "name": "python",
   "nbconvert_exporter": "python",
   "pygments_lexer": "ipython3",
   "version": "3.10.9"
  },
  "orig_nbformat": 4
 },
 "nbformat": 4,
 "nbformat_minor": 2
}
